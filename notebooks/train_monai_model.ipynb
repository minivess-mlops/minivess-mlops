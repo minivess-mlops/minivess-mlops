{
  "cells": [
    {
      "cell_type": "markdown",
      "metadata": {
        "id": "view-in-github",
        "colab_type": "text"
      },
      "source": [
        "<a href=\"https://colab.research.google.com/github/petteriTeikari/minivess_mlops/blob/main/notebooks/train_monai_model.ipynb\" target=\"_parent\"><img src=\"https://colab.research.google.com/assets/colab-badge.svg\" alt=\"Open In Colab\"/></a>"
      ]
    },
    {
      "cell_type": "markdown",
      "source": [
        "# Use a custom model quickly\n",
        "\n",
        "Reuse the data(loader) from the \"ML pipe\""
      ],
      "metadata": {
        "collapsed": false,
        "id": "7dba488f6c9898c9"
      },
      "id": "7dba488f6c9898c9"
    },
    {
      "cell_type": "markdown",
      "source": [
        "Import the libraries needed"
      ],
      "metadata": {
        "collapsed": false,
        "id": "b8e42e792c194f5e"
      },
      "id": "b8e42e792c194f5e"
    },
    {
      "cell_type": "code",
      "execution_count": 27,
      "outputs": [
        {
          "output_type": "stream",
          "name": "stderr",
          "text": [
            "/usr/local/lib/python3.10/dist-packages/ipykernel/ipkernel.py:283: DeprecationWarning: `should_run_async` will not call `transform_cell` automatically in the future. Please pass the result to `transformed_cell` argument and any exception that happen during thetransform in `preprocessing_exc_tuple` in IPython 7.17 and above.\n"
          ]
        },
        {
          "output_type": "display_data",
          "data": {
            "text/plain": [
              "<IPython.core.display.HTML object>"
            ],
            "text/html": [
              "\n",
              "            <style>\n",
              "                .geemap-dark {\n",
              "                    --jp-widgets-color: white;\n",
              "                    --jp-widgets-label-color: white;\n",
              "                    --jp-ui-font-color1: white;\n",
              "                    --jp-layout-color2: #454545;\n",
              "                    background-color: #383838;\n",
              "                }\n",
              "                    \n",
              "                .geemap-dark .jupyter-button {\n",
              "                    --jp-layout-color3: #383838;\n",
              "                }\n",
              "                \n",
              "                .geemap-colab {\n",
              "                    background-color: var(--colab-primary-surface-color, white);\n",
              "                }\n",
              "                    \n",
              "                .geemap-colab .jupyter-button {\n",
              "                    --jp-layout-color3: var(--colab-primary-surface-color, white);\n",
              "                }\n",
              "            </style>\n",
              "            "
            ]
          },
          "metadata": {}
        }
      ],
      "source": [
        "import sys\n",
        "import os"
      ],
      "metadata": {
        "ExecuteTime": {
          "end_time": "2023-10-25T01:30:59.730637113Z",
          "start_time": "2023-10-25T01:30:59.686319664Z"
        },
        "id": "c200b12aa14f2287",
        "outputId": "e97df8b2-a10a-4934-f9c0-17a236aceb0e",
        "colab": {
          "base_uri": "https://localhost:8080/",
          "height": 55
        }
      },
      "id": "c200b12aa14f2287"
    },
    {
      "cell_type": "markdown",
      "source": [
        "If you run this Notebook on Colab, you need to install the Virtual Environment with Poetry yourself (what I understood):"
      ],
      "metadata": {
        "collapsed": false,
        "id": "df06e624709b6250"
      },
      "id": "df06e624709b6250"
    },
    {
      "cell_type": "code",
      "execution_count": 28,
      "outputs": [
        {
          "output_type": "stream",
          "name": "stderr",
          "text": [
            "/usr/local/lib/python3.10/dist-packages/ipykernel/ipkernel.py:283: DeprecationWarning: `should_run_async` will not call `transform_cell` automatically in the future. Please pass the result to `transformed_cell` argument and any exception that happen during thetransform in `preprocessing_exc_tuple` in IPython 7.17 and above.\n"
          ]
        },
        {
          "output_type": "display_data",
          "data": {
            "text/plain": [
              "<IPython.core.display.HTML object>"
            ],
            "text/html": [
              "\n",
              "            <style>\n",
              "                .geemap-dark {\n",
              "                    --jp-widgets-color: white;\n",
              "                    --jp-widgets-label-color: white;\n",
              "                    --jp-ui-font-color1: white;\n",
              "                    --jp-layout-color2: #454545;\n",
              "                    background-color: #383838;\n",
              "                }\n",
              "                    \n",
              "                .geemap-dark .jupyter-button {\n",
              "                    --jp-layout-color3: #383838;\n",
              "                }\n",
              "                \n",
              "                .geemap-colab {\n",
              "                    background-color: var(--colab-primary-surface-color, white);\n",
              "                }\n",
              "                    \n",
              "                .geemap-colab .jupyter-button {\n",
              "                    --jp-layout-color3: var(--colab-primary-surface-color, white);\n",
              "                }\n",
              "            </style>\n",
              "            "
            ]
          },
          "metadata": {}
        },
        {
          "output_type": "stream",
          "name": "stdout",
          "text": [
            "You are running this on COLAB so installing the environment here\n",
            "fatal: destination path 'minivess_mlops' already exists and is not an empty directory.\n",
            "Requirement already satisfied: poetry in /usr/local/lib/python3.10/dist-packages (1.6.1)\n",
            "Requirement already satisfied: build<0.11.0,>=0.10.0 in /usr/local/lib/python3.10/dist-packages (from poetry) (0.10.0)\n",
            "Requirement already satisfied: cachecontrol[filecache]<0.14.0,>=0.13.0 in /usr/local/lib/python3.10/dist-packages (from poetry) (0.13.1)\n",
            "Requirement already satisfied: cleo<3.0.0,>=2.0.0 in /usr/local/lib/python3.10/dist-packages (from poetry) (2.0.1)\n",
            "Requirement already satisfied: crashtest<0.5.0,>=0.4.1 in /usr/local/lib/python3.10/dist-packages (from poetry) (0.4.1)\n",
            "Requirement already satisfied: dulwich<0.22.0,>=0.21.2 in /usr/local/lib/python3.10/dist-packages (from poetry) (0.21.6)\n",
            "Requirement already satisfied: installer<0.8.0,>=0.7.0 in /usr/local/lib/python3.10/dist-packages (from poetry) (0.7.0)\n",
            "Requirement already satisfied: jsonschema<4.18.0,>=4.10.0 in /usr/local/lib/python3.10/dist-packages (from poetry) (4.17.3)\n",
            "Requirement already satisfied: keyring<25.0.0,>=24.0.0 in /usr/local/lib/python3.10/dist-packages (from poetry) (24.2.0)\n",
            "Requirement already satisfied: packaging>=20.4 in /usr/local/lib/python3.10/dist-packages (from poetry) (23.2)\n",
            "Requirement already satisfied: pexpect<5.0.0,>=4.7.0 in /usr/local/lib/python3.10/dist-packages (from poetry) (4.8.0)\n",
            "Requirement already satisfied: pkginfo<2.0.0,>=1.9.4 in /usr/local/lib/python3.10/dist-packages (from poetry) (1.9.6)\n",
            "Requirement already satisfied: platformdirs<4.0.0,>=3.0.0 in /usr/local/lib/python3.10/dist-packages (from poetry) (3.11.0)\n",
            "Requirement already satisfied: poetry-core==1.7.0 in /usr/local/lib/python3.10/dist-packages (from poetry) (1.7.0)\n",
            "Requirement already satisfied: poetry-plugin-export<2.0.0,>=1.5.0 in /usr/local/lib/python3.10/dist-packages (from poetry) (1.5.0)\n",
            "Requirement already satisfied: pyproject-hooks<2.0.0,>=1.0.0 in /usr/local/lib/python3.10/dist-packages (from poetry) (1.0.0)\n",
            "Requirement already satisfied: requests<3.0,>=2.26 in /usr/local/lib/python3.10/dist-packages (from poetry) (2.31.0)\n",
            "Requirement already satisfied: requests-toolbelt<2,>=0.9.1 in /usr/local/lib/python3.10/dist-packages (from poetry) (1.0.0)\n",
            "Requirement already satisfied: shellingham<2.0,>=1.5 in /usr/local/lib/python3.10/dist-packages (from poetry) (1.5.4)\n",
            "Requirement already satisfied: tomli<3.0.0,>=2.0.1 in /usr/local/lib/python3.10/dist-packages (from poetry) (2.0.1)\n",
            "Requirement already satisfied: tomlkit<1.0.0,>=0.11.4 in /usr/local/lib/python3.10/dist-packages (from poetry) (0.12.1)\n",
            "Requirement already satisfied: trove-classifiers>=2022.5.19 in /usr/local/lib/python3.10/dist-packages (from poetry) (2023.10.18)\n",
            "Requirement already satisfied: virtualenv<21.0.0,>=20.22.0 in /usr/local/lib/python3.10/dist-packages (from poetry) (20.24.6)\n",
            "Requirement already satisfied: msgpack>=0.5.2 in /usr/local/lib/python3.10/dist-packages (from cachecontrol[filecache]<0.14.0,>=0.13.0->poetry) (1.0.7)\n",
            "Requirement already satisfied: filelock>=3.8.0 in /usr/local/lib/python3.10/dist-packages (from cachecontrol[filecache]<0.14.0,>=0.13.0->poetry) (3.12.4)\n",
            "Requirement already satisfied: rapidfuzz<3.0.0,>=2.2.0 in /usr/local/lib/python3.10/dist-packages (from cleo<3.0.0,>=2.0.0->poetry) (2.15.2)\n",
            "Requirement already satisfied: urllib3>=1.25 in /usr/local/lib/python3.10/dist-packages (from dulwich<0.22.0,>=0.21.2->poetry) (2.0.7)\n",
            "Requirement already satisfied: attrs>=17.4.0 in /usr/local/lib/python3.10/dist-packages (from jsonschema<4.18.0,>=4.10.0->poetry) (23.1.0)\n",
            "Requirement already satisfied: pyrsistent!=0.17.0,!=0.17.1,!=0.17.2,>=0.14.0 in /usr/local/lib/python3.10/dist-packages (from jsonschema<4.18.0,>=4.10.0->poetry) (0.19.3)\n",
            "Requirement already satisfied: jaraco.classes in /usr/local/lib/python3.10/dist-packages (from keyring<25.0.0,>=24.0.0->poetry) (3.3.0)\n",
            "Requirement already satisfied: importlib-metadata>=4.11.4 in /usr/local/lib/python3.10/dist-packages (from keyring<25.0.0,>=24.0.0->poetry) (6.8.0)\n",
            "Requirement already satisfied: SecretStorage>=3.2 in /usr/lib/python3/dist-packages (from keyring<25.0.0,>=24.0.0->poetry) (3.3.1)\n",
            "Requirement already satisfied: jeepney>=0.4.2 in /usr/lib/python3/dist-packages (from keyring<25.0.0,>=24.0.0->poetry) (0.7.1)\n",
            "Requirement already satisfied: ptyprocess>=0.5 in /usr/local/lib/python3.10/dist-packages (from pexpect<5.0.0,>=4.7.0->poetry) (0.7.0)\n",
            "Requirement already satisfied: charset-normalizer<4,>=2 in /usr/local/lib/python3.10/dist-packages (from requests<3.0,>=2.26->poetry) (3.3.0)\n",
            "Requirement already satisfied: idna<4,>=2.5 in /usr/local/lib/python3.10/dist-packages (from requests<3.0,>=2.26->poetry) (3.4)\n",
            "Requirement already satisfied: certifi>=2017.4.17 in /usr/local/lib/python3.10/dist-packages (from requests<3.0,>=2.26->poetry) (2023.7.22)\n",
            "Requirement already satisfied: distlib<1,>=0.3.7 in /usr/local/lib/python3.10/dist-packages (from virtualenv<21.0.0,>=20.22.0->poetry) (0.3.7)\n",
            "Requirement already satisfied: zipp>=0.5 in /usr/local/lib/python3.10/dist-packages (from importlib-metadata>=4.11.4->keyring<25.0.0,>=24.0.0->poetry) (3.17.0)\n",
            "Requirement already satisfied: more-itertools in /usr/local/lib/python3.10/dist-packages (from jaraco.classes->keyring<25.0.0,>=24.0.0->poetry) (10.1.0)\n",
            "\u001b[34mInstalling dependencies from lock file\u001b[39m\n",
            "\n",
            "No dependencies to install or update\n",
            "Using virtualenv: \u001b[32m/root/.cache/pypoetry/virtualenvs/mlops-1FqrDWw7-py3.10\u001b[39m\n",
            "\u001b[36mabsl-py                  \u001b[39m \u001b[39;1m2.0.0       \u001b[39;22m Abseil Python Common Libraries, see https://github.com/a...\n",
            "\u001b[36maiobotocore              \u001b[39m \u001b[39;1m2.5.4       \u001b[39;22m Async client for aws services using botocore and aiohttp\n",
            "\u001b[36maiohttp                  \u001b[39m \u001b[39;1m3.8.6       \u001b[39;22m Async http client/server framework (asyncio)\n",
            "\u001b[36maiohttp-retry            \u001b[39m \u001b[39;1m2.8.3       \u001b[39;22m Simple retry client for aiohttp\n",
            "\u001b[36maioitertools             \u001b[39m \u001b[39;1m0.11.0      \u001b[39;22m itertools and builtins for AsyncIO and mixed iterables\n",
            "\u001b[36maiosignal                \u001b[39m \u001b[39;1m1.3.1       \u001b[39;22m aiosignal: a list of registered asynchronous callbacks\n",
            "\u001b[36malembic                  \u001b[39m \u001b[39;1m1.12.0      \u001b[39;22m A database migration tool for SQLAlchemy.\n",
            "\u001b[36mamqp                     \u001b[39m \u001b[39;1m5.1.1       \u001b[39;22m Low-level AMQP client for Python (fork of amqplib).\n",
            "\u001b[36mannotated-types          \u001b[39m \u001b[39;1m0.6.0       \u001b[39;22m Reusable constraint types to use with typing.Annotated\n",
            "\u001b[36mantlr4-python3-runtime   \u001b[39m \u001b[39;1m4.9.3       \u001b[39;22m ANTLR 4.9.3 runtime for Python 3.7\n",
            "\u001b[36manyio                    \u001b[39m \u001b[39;1m4.0.0       \u001b[39;22m High level compatibility layer for multiple asynchronous...\n",
            "\u001b[36mappdirs                  \u001b[39m \u001b[39;1m1.4.4       \u001b[39;22m A small Python module for determining appropriate platfo...\n",
            "\u001b[36margon2-cffi              \u001b[39m \u001b[39;1m23.1.0      \u001b[39;22m Argon2 for Python\n",
            "\u001b[36margon2-cffi-bindings     \u001b[39m \u001b[39;1m21.2.0      \u001b[39;22m Low-level CFFI bindings for Argon2\n",
            "\u001b[36marrow                    \u001b[39m \u001b[39;1m1.3.0       \u001b[39;22m Better dates & times for Python\n",
            "\u001b[36masttokens                \u001b[39m \u001b[39;1m2.4.0       \u001b[39;22m Annotate AST trees with source code positions\n",
            "\u001b[36masync-lru                \u001b[39m \u001b[39;1m2.0.4       \u001b[39;22m Simple LRU cache for asyncio\n",
            "\u001b[36masync-timeout            \u001b[39m \u001b[39;1m4.0.3       \u001b[39;22m Timeout context manager for asyncio programs\n",
            "\u001b[36masyncssh                 \u001b[39m \u001b[39;1m2.14.0      \u001b[39;22m AsyncSSH: Asynchronous SSHv2 client and server library\n",
            "\u001b[36matpublic                 \u001b[39m \u001b[39;1m4.0         \u001b[39;22m Keep all y'all's __all__'s in sync\n",
            "\u001b[36mattrs                    \u001b[39m \u001b[39;1m23.1.0      \u001b[39;22m Classes Without Boilerplate\n",
            "\u001b[36mbabel                    \u001b[39m \u001b[39;1m2.13.1      \u001b[39;22m Internationalization utilities\n",
            "\u001b[36mbackcall                 \u001b[39m \u001b[39;1m0.2.0       \u001b[39;22m Specifications for callback functions passed in to an API\n",
            "\u001b[36mbeautifulsoup4           \u001b[39m \u001b[39;1m4.12.2      \u001b[39;22m Screen-scraping library\n",
            "\u001b[36mbilliard                 \u001b[39m \u001b[39;1m4.1.0       \u001b[39;22m Python multiprocessing fork with improvements and bugfixes\n",
            "\u001b[36mbleach                   \u001b[39m \u001b[39;1m6.1.0       \u001b[39;22m An easy safelist-based HTML-sanitizing tool.\n",
            "\u001b[36mblinker                  \u001b[39m \u001b[39;1m1.6.2       \u001b[39;22m Fast, simple object-to-object and broadcast signaling\n",
            "\u001b[36mboto3                    \u001b[39m \u001b[39;1m1.28.17     \u001b[39;22m The AWS SDK for Python\n",
            "\u001b[36mbotocore                 \u001b[39m \u001b[39;1m1.31.17     \u001b[39;22m Low-level, data-driven core of boto 3.\n",
            "\u001b[36mcachetools               \u001b[39m \u001b[39;1m5.3.1       \u001b[39;22m Extensible memoizing collections and decorators\n",
            "\u001b[36mcelery                   \u001b[39m \u001b[39;1m5.3.4       \u001b[39;22m Distributed Task Queue.\n",
            "\u001b[36mcertifi                  \u001b[39m \u001b[39;1m2023.7.22   \u001b[39;22m Python package for providing Mozilla's CA Bundle.\n",
            "\u001b[36mcffi                     \u001b[39m \u001b[39;1m1.16.0      \u001b[39;22m Foreign Function Interface for Python calling C code.\n",
            "\u001b[36mcharset-normalizer       \u001b[39m \u001b[39;1m3.3.0       \u001b[39;22m The Real First Universal Charset Detector. Open, modern ...\n",
            "\u001b[36mclick                    \u001b[39m \u001b[39;1m8.1.7       \u001b[39;22m Composable command line interface toolkit\n",
            "\u001b[36mclick-didyoumean         \u001b[39m \u001b[39;1m0.3.0       \u001b[39;22m Enables git-like *did-you-mean* feature in click\n",
            "\u001b[36mclick-plugins            \u001b[39m \u001b[39;1m1.1.1       \u001b[39;22m An extension module for click to enable registering CLI ...\n",
            "\u001b[36mclick-repl               \u001b[39m \u001b[39;1m0.3.0       \u001b[39;22m REPL plugin for Click\n",
            "\u001b[36mcloudpickle              \u001b[39m \u001b[39;1m2.2.1       \u001b[39;22m Extended pickling support for Python objects\n",
            "\u001b[36mcmake                    \u001b[39m \u001b[39;1m3.27.6      \u001b[39;22m CMake is an open-source, cross-platform family of tools ...\n",
            "\u001b[36mcolorama                 \u001b[39m \u001b[39;1m0.4.6       \u001b[39;22m Cross-platform colored terminal text.\n",
            "\u001b[36mcomm                     \u001b[39m \u001b[39;1m0.1.4       \u001b[39;22m Jupyter Python Comm implementation, for usage in ipykern...\n",
            "\u001b[36mconfigobj                \u001b[39m \u001b[39;1m5.0.8       \u001b[39;22m Config file reading, writing and validation.\n",
            "\u001b[36mcontourpy                \u001b[39m \u001b[39;1m1.1.1       \u001b[39;22m Python library for calculating contours of 2D quadrilate...\n",
            "\u001b[36mcryptography             \u001b[39m \u001b[39;1m41.0.4      \u001b[39;22m cryptography is a package which provides cryptographic r...\n",
            "\u001b[36mcycler                   \u001b[39m \u001b[39;1m0.12.0      \u001b[39;22m Composable style cycles\n",
            "\u001b[36mdatabricks-cli           \u001b[39m \u001b[39;1m0.17.6      \u001b[39;22m A command line interface for Databricks\n",
            "\u001b[36mdebugpy                  \u001b[39m \u001b[39;1m1.8.0       \u001b[39;22m An implementation of the Debug Adapter Protocol for Python\n",
            "\u001b[36mdecorator                \u001b[39m \u001b[39;1m5.1.1       \u001b[39;22m Decorators for Humans\n",
            "\u001b[36mdefusedxml               \u001b[39m \u001b[39;1m0.7.1       \u001b[39;22m XML bomb protection for Python stdlib modules\n",
            "\u001b[36mdictdiffer               \u001b[39m \u001b[39;1m0.9.0       \u001b[39;22m Dictdiffer is a library that helps you to diff and patch...\n",
            "\u001b[36mdiskcache                \u001b[39m \u001b[39;1m5.6.3       \u001b[39;22m Disk Cache -- Disk and file backed persistent cache.\n",
            "\u001b[36mdistro                   \u001b[39m \u001b[39;1m1.8.0       \u001b[39;22m Distro - an OS platform information API\n",
            "\u001b[36mdocker                   \u001b[39m \u001b[39;1m6.1.3       \u001b[39;22m A Python library for the Docker Engine API.\n",
            "\u001b[36mdocker-pycreds           \u001b[39m \u001b[39;1m0.4.0       \u001b[39;22m Python bindings for the docker credentials store API\n",
            "\u001b[36mdpath                    \u001b[39m \u001b[39;1m2.1.6       \u001b[39;22m Filesystem-like pathing and searching for dictionaries\n",
            "\u001b[36mdulwich                  \u001b[39m \u001b[39;1m0.21.6      \u001b[39;22m Python Git Library\n",
            "\u001b[36mdvc                      \u001b[39m \u001b[39;1m3.25.0      \u001b[39;22m Git for data scientists - manage your code and data toge...\n",
            "\u001b[36mdvc-data                 \u001b[39m \u001b[39;1m2.18.1      \u001b[39;22m dvc data\n",
            "\u001b[36mdvc-http                 \u001b[39m \u001b[39;1m2.30.2      \u001b[39;22m http plugin for dvc\n",
            "\u001b[36mdvc-objects              \u001b[39m \u001b[39;1m1.0.1       \u001b[39;22m dvc objects\n",
            "\u001b[36mdvc-render               \u001b[39m \u001b[39;1m0.6.0       \u001b[39;22m DVC render\n",
            "\u001b[36mdvc-s3                   \u001b[39m \u001b[39;1m2.23.0      \u001b[39;22m s3 plugin for dvc\n",
            "\u001b[36mdvc-studio-client        \u001b[39m \u001b[39;1m0.15.0      \u001b[39;22m Small library to post data from DVC/DVCLive to Iterative...\n",
            "\u001b[36mdvc-task                 \u001b[39m \u001b[39;1m0.3.0       \u001b[39;22m Extensible task queue used in DVC.\n",
            "\u001b[36meinops                   \u001b[39m \u001b[39;1m0.6.1       \u001b[39;22m A new flavour of deep learning operations\n",
            "\u001b[36mentrypoints              \u001b[39m \u001b[39;1m0.4         \u001b[39;22m Discover and load entry points from installed packages.\n",
            "\u001b[36mexceptiongroup           \u001b[39m \u001b[39;1m1.1.3       \u001b[39;22m Backport of PEP 654 (exception groups)\n",
            "\u001b[36mexecuting                \u001b[39m \u001b[39;1m2.0.0       \u001b[39;22m Get the currently executing AST node of a frame, and oth...\n",
            "\u001b[36mfastjsonschema           \u001b[39m \u001b[39;1m2.18.1      \u001b[39;22m Fastest Python implementation of JSON schema\n",
            "\u001b[36mfilelock                 \u001b[39m \u001b[39;1m3.12.4      \u001b[39;22m A platform independent file lock.\n",
            "\u001b[36mflask                    \u001b[39m \u001b[39;1m2.3.3       \u001b[39;22m A simple framework for building complex web applications.\n",
            "\u001b[36mflatten-dict             \u001b[39m \u001b[39;1m0.4.2       \u001b[39;22m A flexible utility for flattening and unflattening dict-...\n",
            "\u001b[36mflufl-lock               \u001b[39m \u001b[39;1m7.1.1       \u001b[39;22m NFS-safe file locking with timeouts for POSIX and Windows\n",
            "\u001b[36mfonttools                \u001b[39m \u001b[39;1m4.43.0      \u001b[39;22m Tools to manipulate font files\n",
            "\u001b[36mfqdn                     \u001b[39m \u001b[39;1m1.5.1       \u001b[39;22m Validates fully-qualified domain names against RFC 1123,...\n",
            "\u001b[36mfrozenlist               \u001b[39m \u001b[39;1m1.4.0       \u001b[39;22m A list-like structure which implements collections.abc.M...\n",
            "\u001b[36mfsspec                   \u001b[39m \u001b[39;1m2023.9.2    \u001b[39;22m File-system specification\n",
            "\u001b[36mfuncy                    \u001b[39m \u001b[39;1m2.0         \u001b[39;22m A fancy and practical functional tools\n",
            "\u001b[36mgdown                    \u001b[39m \u001b[39;1m4.7.1       \u001b[39;22m Google Drive direct download of big files.\n",
            "\u001b[36mgitdb                    \u001b[39m \u001b[39;1m4.0.10      \u001b[39;22m Git Object Database\n",
            "\u001b[36mgitpython                \u001b[39m \u001b[39;1m3.1.37      \u001b[39;22m GitPython is a Python library used to interact with Git ...\n",
            "\u001b[36mgoogle-auth              \u001b[39m \u001b[39;1m2.23.2      \u001b[39;22m Google Authentication Library\n",
            "\u001b[36mgoogle-auth-oauthlib     \u001b[39m \u001b[39;1m1.0.0       \u001b[39;22m Google Authentication Library\n",
            "\u001b[36mgrandalf                 \u001b[39m \u001b[39;1m0.8         \u001b[39;22m Graph and drawing algorithms framework\n",
            "\u001b[36mgreenlet                 \u001b[39m \u001b[39;1m3.0.0       \u001b[39;22m Lightweight in-process concurrent programming\n",
            "\u001b[36mgrpcio                   \u001b[39m \u001b[39;1m1.59.0      \u001b[39;22m HTTP/2-based RPC framework\n",
            "\u001b[36mgto                      \u001b[39m \u001b[39;1m1.4.0       \u001b[39;22m Version and deploy your models following GitOps principles\n",
            "\u001b[36mgunicorn                 \u001b[39m \u001b[39;1m21.2.0      \u001b[39;22m WSGI HTTP Server for UNIX\n",
            "\u001b[36mhuggingface-hub          \u001b[39m \u001b[39;1m0.16.4      \u001b[39;22m Client library to download and publish models, datasets ...\n",
            "\u001b[36mhydra-core               \u001b[39m \u001b[39;1m1.3.2       \u001b[39;22m A framework for elegantly configuring complex applications\n",
            "\u001b[36midna                     \u001b[39m \u001b[39;1m3.4         \u001b[39;22m Internationalized Domain Names in Applications (IDNA)\n",
            "\u001b[36mimageio                  \u001b[39m \u001b[39;1m2.31.5      \u001b[39;22m Library for reading and writing a wide range of image, v...\n",
            "\u001b[36mimportlib-metadata       \u001b[39m \u001b[39;1m6.8.0       \u001b[39;22m Read metadata from Python packages\n",
            "\u001b[36mipykernel                \u001b[39m \u001b[39;1m6.25.2      \u001b[39;22m IPython Kernel for Jupyter\n",
            "\u001b[36mipython                  \u001b[39m \u001b[39;1m8.12.3      \u001b[39;22m IPython: Productive Interactive Computing\n",
            "\u001b[36mipython-genutils         \u001b[39m \u001b[39;1m0.2.0       \u001b[39;22m Vestigial utilities from IPython\n",
            "\u001b[36mipywidgets               \u001b[39m \u001b[39;1m8.1.1       \u001b[39;22m Jupyter interactive widgets\n",
            "\u001b[36misoduration              \u001b[39m \u001b[39;1m20.11.0     \u001b[39;22m Operations with ISO 8601 durations\n",
            "\u001b[36miterative-telemetry      \u001b[39m \u001b[39;1m0.0.8       \u001b[39;22m Common library for sending telemetry\n",
            "\u001b[36mitk                      \u001b[39m \u001b[39;1m5.3.0       \u001b[39;22m ITK is an open-source toolkit for multidimensional image...\n",
            "\u001b[36mitk-core                 \u001b[39m \u001b[39;1m5.3.0       \u001b[39;22m ITK is an open-source toolkit for multidimensional image...\n",
            "\u001b[36mitk-filtering            \u001b[39m \u001b[39;1m5.3.0       \u001b[39;22m ITK is an open-source toolkit for multidimensional image...\n",
            "\u001b[36mitk-io                   \u001b[39m \u001b[39;1m5.3.0       \u001b[39;22m ITK is an open-source toolkit for multidimensional image...\n",
            "\u001b[36mitk-numerics             \u001b[39m \u001b[39;1m5.3.0       \u001b[39;22m ITK is an open-source toolkit for multidimensional image...\n",
            "\u001b[36mitk-registration         \u001b[39m \u001b[39;1m5.3.0       \u001b[39;22m ITK is an open-source toolkit for multidimensional image...\n",
            "\u001b[36mitk-segmentation         \u001b[39m \u001b[39;1m5.3.0       \u001b[39;22m ITK is an open-source toolkit for multidimensional image...\n",
            "\u001b[36mitsdangerous             \u001b[39m \u001b[39;1m2.1.2       \u001b[39;22m Safely pass data to untrusted environments and back.\n",
            "\u001b[36mjedi                     \u001b[39m \u001b[39;1m0.19.1      \u001b[39;22m An autocompletion tool for Python that can be used for t...\n",
            "\u001b[36mjinja2                   \u001b[39m \u001b[39;1m3.1.2       \u001b[39;22m A very fast and expressive template engine.\n",
            "\u001b[36mjmespath                 \u001b[39m \u001b[39;1m1.0.1       \u001b[39;22m JSON Matching Expressions\n",
            "\u001b[36mjoblib                   \u001b[39m \u001b[39;1m1.3.2       \u001b[39;22m Lightweight pipelining with Python functions\n",
            "\u001b[36mjson5                    \u001b[39m \u001b[39;1m0.9.14      \u001b[39;22m A Python implementation of the JSON5 data format.\n",
            "\u001b[36mjsonpointer              \u001b[39m \u001b[39;1m2.4         \u001b[39;22m Identify specific nodes in a JSON document (RFC 6901)\n",
            "\u001b[36mjsonschema               \u001b[39m \u001b[39;1m4.19.1      \u001b[39;22m An implementation of JSON Schema validation for Python\n",
            "\u001b[36mjsonschema-specifications\u001b[39m \u001b[39;1m2023.7.1    \u001b[39;22m The JSON Schema meta-schemas and vocabularies, exposed a...\n",
            "\u001b[36mjupyter                  \u001b[39m \u001b[39;1m1.0.0       \u001b[39;22m Jupyter metapackage. Install all the Jupyter components ...\n",
            "\u001b[36mjupyter-client           \u001b[39m \u001b[39;1m8.4.0       \u001b[39;22m Jupyter protocol implementation and client libraries\n",
            "\u001b[36mjupyter-console          \u001b[39m \u001b[39;1m6.6.3       \u001b[39;22m Jupyter terminal console\n",
            "\u001b[36mjupyter-core             \u001b[39m \u001b[39;1m5.4.0       \u001b[39;22m Jupyter core package. A base package on which Jupyter pr...\n",
            "\u001b[36mjupyter-events           \u001b[39m \u001b[39;1m0.8.0       \u001b[39;22m Jupyter Event System library\n",
            "\u001b[36mjupyter-lsp              \u001b[39m \u001b[39;1m2.2.0       \u001b[39;22m Multi-Language Server WebSocket proxy for Jupyter Notebo...\n",
            "\u001b[36mjupyter-server           \u001b[39m \u001b[39;1m2.8.0       \u001b[39;22m The backend—i.e. core services, APIs, and REST endpoints...\n",
            "\u001b[36mjupyter-server-terminals \u001b[39m \u001b[39;1m0.4.4       \u001b[39;22m A Jupyter Server Extension Providing Terminals.\n",
            "\u001b[36mjupyterlab               \u001b[39m \u001b[39;1m4.0.7       \u001b[39;22m JupyterLab computational environment\n",
            "\u001b[36mjupyterlab-pygments      \u001b[39m \u001b[39;1m0.2.2       \u001b[39;22m Pygments theme using JupyterLab CSS variables\n",
            "\u001b[36mjupyterlab-server        \u001b[39m \u001b[39;1m2.25.0      \u001b[39;22m A set of server components for JupyterLab and JupyterLab...\n",
            "\u001b[36mjupyterlab-widgets       \u001b[39m \u001b[39;1m3.0.9       \u001b[39;22m Jupyter interactive widgets for JupyterLab\n",
            "\u001b[36mkiwisolver               \u001b[39m \u001b[39;1m1.4.5       \u001b[39;22m A fast implementation of the Cassowary constraint solver\n",
            "\u001b[36mkombu                    \u001b[39m \u001b[39;1m5.3.2       \u001b[39;22m Messaging library for Python.\n",
            "\u001b[36mlazy-loader              \u001b[39m \u001b[39;1m0.3         \u001b[39;22m lazy_loader\n",
            "\u001b[36mlit                      \u001b[39m \u001b[39;1m17.0.2      \u001b[39;22m A Software Testing Tool\n",
            "\u001b[36mlmdb                     \u001b[39m \u001b[39;1m1.4.1       \u001b[39;22m Universal Python binding for the LMDB 'Lightning' Database\n",
            "\u001b[36mloguru                   \u001b[39m \u001b[39;1m0.7.2       \u001b[39;22m Python logging made (stupidly) simple\n",
            "\u001b[36mmako                     \u001b[39m \u001b[39;1m1.2.4       \u001b[39;22m A super-fast templating language that borrows the best i...\n",
            "\u001b[36mmarkdown                 \u001b[39m \u001b[39;1m3.4.4       \u001b[39;22m Python implementation of John Gruber's Markdown.\n",
            "\u001b[36mmarkdown-it-py           \u001b[39m \u001b[39;1m3.0.0       \u001b[39;22m Python port of markdown-it. Markdown parsing, done right!\n",
            "\u001b[36mmarkupsafe               \u001b[39m \u001b[39;1m2.1.3       \u001b[39;22m Safely add untrusted strings to HTML/XML markup.\n",
            "\u001b[36mmatplotlib               \u001b[39m \u001b[39;1m3.7.3       \u001b[39;22m Python plotting package\n",
            "\u001b[36mmatplotlib-inline        \u001b[39m \u001b[39;1m0.1.6       \u001b[39;22m Inline Matplotlib backend for Jupyter\n",
            "\u001b[36mmdurl                    \u001b[39m \u001b[39;1m0.1.2       \u001b[39;22m Markdown URL utilities\n",
            "\u001b[36mmistune                  \u001b[39m \u001b[39;1m3.0.2       \u001b[39;22m A sane and fast Markdown parser with useful plugins and ...\n",
            "\u001b[36mmlflow                   \u001b[39m \u001b[39;1m2.7.1       \u001b[39;22m MLflow: A Platform for ML Development and Productionization\n",
            "\u001b[36mmonai                    \u001b[39m \u001b[39;1m1.2.0       \u001b[39;22m AI Toolkit for Healthcare Imaging\n",
            "\u001b[36mmpmath                   \u001b[39m \u001b[39;1m1.3.0       \u001b[39;22m Python library for arbitrary-precision floating-point ar...\n",
            "\u001b[36mmultidict                \u001b[39m \u001b[39;1m6.0.4       \u001b[39;22m multidict implementation\n",
            "\u001b[36mnbclient                 \u001b[39m \u001b[39;1m0.8.0       \u001b[39;22m A client library for executing notebooks. Formerly nbcon...\n",
            "\u001b[36mnbconvert                \u001b[39m \u001b[39;1m7.9.2       \u001b[39;22m Converting Jupyter Notebooks\n",
            "\u001b[36mnbformat                 \u001b[39m \u001b[39;1m5.9.2       \u001b[39;22m The Jupyter Notebook format\n",
            "\u001b[36mnest-asyncio             \u001b[39m \u001b[39;1m1.5.8       \u001b[39;22m Patch asyncio to allow nested event loops\n",
            "\u001b[36mnetworkx                 \u001b[39m \u001b[39;1m3.1         \u001b[39;22m Python package for creating and manipulating graphs and ...\n",
            "\u001b[36mnibabel                  \u001b[39m \u001b[39;1m5.1.0       \u001b[39;22m Access a multitude of neuroimaging data formats\n",
            "\u001b[36mnotebook                 \u001b[39m \u001b[39;1m7.0.6       \u001b[39;22m Jupyter Notebook - A web-based notebook environment for ...\n",
            "\u001b[36mnotebook-shim            \u001b[39m \u001b[39;1m0.2.3       \u001b[39;22m A shim layer for notebook traits and config\n",
            "\u001b[36mnptyping                 \u001b[39m \u001b[39;1m2.5.0       \u001b[39;22m Type hints for NumPy.\n",
            "\u001b[36mnumpy                    \u001b[39m \u001b[39;1m1.24.4      \u001b[39;22m Fundamental package for array computing in Python\n",
            "\u001b[36mnvidia-cublas-cu11       \u001b[39m \u001b[39;1m11.10.3.66  \u001b[39;22m CUBLAS native runtime libraries\n",
            "\u001b[36mnvidia-cuda-cupti-cu11   \u001b[39m \u001b[39;1m11.7.101    \u001b[39;22m CUDA profiling tools runtime libs.\n",
            "\u001b[36mnvidia-cuda-nvrtc-cu11   \u001b[39m \u001b[39;1m11.7.99     \u001b[39;22m NVRTC native runtime libraries\n",
            "\u001b[36mnvidia-cuda-runtime-cu11 \u001b[39m \u001b[39;1m11.7.99     \u001b[39;22m CUDA Runtime native Libraries\n",
            "\u001b[36mnvidia-cudnn-cu11        \u001b[39m \u001b[39;1m8.5.0.96    \u001b[39;22m cuDNN runtime libraries\n",
            "\u001b[36mnvidia-cufft-cu11        \u001b[39m \u001b[39;1m10.9.0.58   \u001b[39;22m CUFFT native runtime libraries\n",
            "\u001b[36mnvidia-curand-cu11       \u001b[39m \u001b[39;1m10.2.10.91  \u001b[39;22m CURAND native runtime libraries\n",
            "\u001b[36mnvidia-cusolver-cu11     \u001b[39m \u001b[39;1m11.4.0.1    \u001b[39;22m CUDA solver native runtime libraries\n",
            "\u001b[36mnvidia-cusparse-cu11     \u001b[39m \u001b[39;1m11.7.4.91   \u001b[39;22m CUSPARSE native runtime libraries\n",
            "\u001b[36mnvidia-nccl-cu11         \u001b[39m \u001b[39;1m2.14.3      \u001b[39;22m NVIDIA Collective Communication Library (NCCL) Runtime\n",
            "\u001b[36mnvidia-nvtx-cu11         \u001b[39m \u001b[39;1m11.7.91     \u001b[39;22m NVIDIA Tools Extension\n",
            "\u001b[36moauthlib                 \u001b[39m \u001b[39;1m3.2.2       \u001b[39;22m A generic, spec-compliant, thorough implementation of th...\n",
            "\u001b[36momegaconf                \u001b[39m \u001b[39;1m2.3.0       \u001b[39;22m A flexible configuration library\n",
            "\u001b[36morjson                   \u001b[39m \u001b[39;1m3.9.8       \u001b[39;22m Fast, correct Python JSON library supporting dataclasses...\n",
            "\u001b[36moverrides                \u001b[39m \u001b[39;1m7.4.0       \u001b[39;22m A decorator to automatically detect mismatch when overri...\n",
            "\u001b[36mpackaging                \u001b[39m \u001b[39;1m23.2        \u001b[39;22m Core utilities for Python packages\n",
            "\u001b[36mpandas                   \u001b[39m \u001b[39;1m2.0.3       \u001b[39;22m Powerful data structures for data analysis, time series,...\n",
            "\u001b[36mpandocfilters            \u001b[39m \u001b[39;1m1.5.0       \u001b[39;22m Utilities for writing pandoc filters in python\n",
            "\u001b[36mparso                    \u001b[39m \u001b[39;1m0.8.3       \u001b[39;22m A Python Parser\n",
            "\u001b[36mpathspec                 \u001b[39m \u001b[39;1m0.11.2      \u001b[39;22m Utility library for gitignore style pattern matching of ...\n",
            "\u001b[36mpathtools                \u001b[39m \u001b[39;1m0.1.2       \u001b[39;22m File system general utilities\n",
            "\u001b[36mpexpect                  \u001b[39m \u001b[39;1m4.8.0       \u001b[39;22m Pexpect allows easy control of interactive console appli...\n",
            "\u001b[36mpickleshare              \u001b[39m \u001b[39;1m0.7.5       \u001b[39;22m Tiny 'shelve'-like database with concurrency support\n",
            "\u001b[36mpillow                   \u001b[39m \u001b[39;1m10.0.1      \u001b[39;22m Python Imaging Library (Fork)\n",
            "\u001b[36mplatformdirs             \u001b[39m \u001b[39;1m3.11.0      \u001b[39;22m A small Python package for determining appropriate platf...\n",
            "\u001b[36mpowerlaw                 \u001b[39m \u001b[39;1m1.5         \u001b[39;22m Toolbox for testing if a probability distribution fits a...\n",
            "\u001b[36mprometheus-client        \u001b[39m \u001b[39;1m0.17.1      \u001b[39;22m Python client for the Prometheus monitoring system.\n",
            "\u001b[36mprompt-toolkit           \u001b[39m \u001b[39;1m3.0.39      \u001b[39;22m Library for building powerful interactive command lines ...\n",
            "\u001b[36mprotobuf                 \u001b[39m \u001b[39;1m4.24.3      \u001b[39;22m \n",
            "\u001b[36mpsutil                   \u001b[39m \u001b[39;1m5.9.5       \u001b[39;22m Cross-platform lib for process and system monitoring in ...\n",
            "\u001b[36mptyprocess               \u001b[39m \u001b[39;1m0.7.0       \u001b[39;22m Run a subprocess in a pseudo terminal\n",
            "\u001b[36mpure-eval                \u001b[39m \u001b[39;1m0.2.2       \u001b[39;22m Safely evaluate AST nodes without side effects\n",
            "\u001b[36mpyarrow                  \u001b[39m \u001b[39;1m13.0.0      \u001b[39;22m Python library for Apache Arrow\n",
            "\u001b[36mpyasn1                   \u001b[39m \u001b[39;1m0.5.0       \u001b[39;22m Pure-Python implementation of ASN.1 types and DER/BER/CE...\n",
            "\u001b[36mpyasn1-modules           \u001b[39m \u001b[39;1m0.3.0       \u001b[39;22m A collection of ASN.1-based protocols modules\n",
            "\u001b[36mpycparser                \u001b[39m \u001b[39;1m2.21        \u001b[39;22m C parser in Python\n",
            "\u001b[36mpydantic                 \u001b[39m \u001b[39;1m2.4.2       \u001b[39;22m Data validation using Python type hints\n",
            "\u001b[36mpydantic-core            \u001b[39m \u001b[39;1m2.10.1      \u001b[39;22m \n",
            "\u001b[36mpydot                    \u001b[39m \u001b[39;1m1.4.2       \u001b[39;22m Python interface to Graphviz's Dot\n",
            "\u001b[36mpygit2                   \u001b[39m \u001b[39;1m1.13.1      \u001b[39;22m Python bindings for libgit2.\n",
            "\u001b[36mpygments                 \u001b[39m \u001b[39;1m2.16.1      \u001b[39;22m Pygments is a syntax highlighting package written in Pyt...\n",
            "\u001b[36mpygtrie                  \u001b[39m \u001b[39;1m2.5.0       \u001b[39;22m A pure Python trie data structure implementation.\n",
            "\u001b[36mpyjwt                    \u001b[39m \u001b[39;1m2.8.0       \u001b[39;22m JSON Web Token implementation in Python\n",
            "\u001b[36mpynrrd                   \u001b[39m \u001b[39;1m1.0.0       \u001b[39;22m Pure python module for reading and writing NRRD files.\n",
            "\u001b[36mpyparsing                \u001b[39m \u001b[39;1m3.1.1       \u001b[39;22m pyparsing module - Classes and methods to define and exe...\n",
            "\u001b[36mpysocks                  \u001b[39m \u001b[39;1m1.7.1       \u001b[39;22m A Python SOCKS client module. See https://github.com/Ano...\n",
            "\u001b[36mpython-dateutil          \u001b[39m \u001b[39;1m2.8.2       \u001b[39;22m Extensions to the standard Python datetime module\n",
            "\u001b[36mpython-json-logger       \u001b[39m \u001b[39;1m2.0.7       \u001b[39;22m A python library adding a json log formatter\n",
            "\u001b[36mpytorch-ignite           \u001b[39m \u001b[39;1m0.4.12      \u001b[39;22m A lightweight library to help with training neural netwo...\n",
            "\u001b[36mpytz                     \u001b[39m \u001b[39;1m2023.3.post1\u001b[39;22m World timezone definitions, modern and historical\n",
            "\u001b[36mpywavelets               \u001b[39m \u001b[39;1m1.4.1       \u001b[39;22m PyWavelets, wavelet transform module\n",
            "\u001b[36mpyyaml                   \u001b[39m \u001b[39;1m6.0.1       \u001b[39;22m YAML parser and emitter for Python\n",
            "\u001b[36mpyzmq                    \u001b[39m \u001b[39;1m25.1.1      \u001b[39;22m Python bindings for 0MQ\n",
            "\u001b[36mqtconsole                \u001b[39m \u001b[39;1m5.4.4       \u001b[39;22m Jupyter Qt console\n",
            "\u001b[36mqtpy                     \u001b[39m \u001b[39;1m2.4.1       \u001b[39;22m Provides an abstraction layer on top of the various Qt b...\n",
            "\u001b[36mquerystring-parser       \u001b[39m \u001b[39;1m1.2.4       \u001b[39;22m QueryString parser for Python/Django that correctly hand...\n",
            "\u001b[36mreferencing              \u001b[39m \u001b[39;1m0.30.2      \u001b[39;22m JSON Referencing + Python\n",
            "\u001b[36mregex                    \u001b[39m \u001b[39;1m2023.10.3   \u001b[39;22m Alternative regular expression module, to replace re.\n",
            "\u001b[36mrequests                 \u001b[39m \u001b[39;1m2.31.0      \u001b[39;22m Python HTTP for Humans.\n",
            "\u001b[36mrequests-oauthlib        \u001b[39m \u001b[39;1m1.3.1       \u001b[39;22m OAuthlib authentication support for Requests.\n",
            "\u001b[36mrfc3339-validator        \u001b[39m \u001b[39;1m0.1.4       \u001b[39;22m A pure python RFC3339 validator\n",
            "\u001b[36mrfc3986-validator        \u001b[39m \u001b[39;1m0.1.1       \u001b[39;22m Pure python rfc3986 validator\n",
            "\u001b[36mrich                     \u001b[39m \u001b[39;1m13.6.0      \u001b[39;22m Render rich text, tables, progress bars, syntax highligh...\n",
            "\u001b[36mrpds-py                  \u001b[39m \u001b[39;1m0.10.6      \u001b[39;22m Python bindings to Rust's persistent data structures (rpds)\n",
            "\u001b[36mrsa                      \u001b[39m \u001b[39;1m4.9         \u001b[39;22m Pure-Python RSA implementation\n",
            "\u001b[36mruamel-yaml              \u001b[39m \u001b[39;1m0.17.35     \u001b[39;22m ruamel.yaml is a YAML parser/emitter that supports round...\n",
            "\u001b[36mruamel-yaml-clib         \u001b[39m \u001b[39;1m0.2.8       \u001b[39;22m C version of reader, parser and emitter for ruamel.yaml ...\n",
            "\u001b[36ms3fs                     \u001b[39m \u001b[39;1m2023.9.2    \u001b[39;22m Convenient Filesystem interface over S3\n",
            "\u001b[36ms3transfer               \u001b[39m \u001b[39;1m0.6.2       \u001b[39;22m An Amazon S3 Transfer Manager\n",
            "\u001b[36msafetensors              \u001b[39m \u001b[39;1m0.3.3       \u001b[39;22m Fast and Safe Tensor serialization\n",
            "\u001b[36mscikit-image             \u001b[39m \u001b[39;1m0.21.0      \u001b[39;22m Image processing in Python\n",
            "\u001b[36mscikit-learn             \u001b[39m \u001b[39;1m1.3.1       \u001b[39;22m A set of python modules for machine learning and data mi...\n",
            "\u001b[36mscipy                    \u001b[39m \u001b[39;1m1.9.3       \u001b[39;22m Fundamental algorithms for scientific computing in Python\n",
            "\u001b[36mscmrepo                  \u001b[39m \u001b[39;1m1.3.1       \u001b[39;22m SCM wrapper and fsspec filesystem for Git for use in DVC\n",
            "\u001b[36msemver                   \u001b[39m \u001b[39;1m3.0.2       \u001b[39;22m Python helper for Semantic Versioning (https://semver.org)\n",
            "\u001b[36msend2trash               \u001b[39m \u001b[39;1m1.8.2       \u001b[39;22m Send file to trash natively under Mac OS X, Windows and ...\n",
            "\u001b[36msentry-sdk               \u001b[39m \u001b[39;1m1.31.0      \u001b[39;22m Python client for Sentry (https://sentry.io)\n",
            "\u001b[36msetproctitle             \u001b[39m \u001b[39;1m1.3.3       \u001b[39;22m A Python module to customize the process title\n",
            "\u001b[36msetuptools               \u001b[39m \u001b[39;1m68.2.2      \u001b[39;22m Easily download, build, install, upgrade, and uninstall ...\n",
            "\u001b[36msetuptools-scm           \u001b[39m \u001b[39;1m8.0.4       \u001b[39;22m the blessed package to manage your versions by scm tags\n",
            "\u001b[36mshortuuid                \u001b[39m \u001b[39;1m1.0.11      \u001b[39;22m A generator library for concise, unambiguous and URL-saf...\n",
            "\u001b[36mshtab                    \u001b[39m \u001b[39;1m1.6.4       \u001b[39;22m Automagic shell tab completion for Python CLI applications\n",
            "\u001b[36msix                      \u001b[39m \u001b[39;1m1.16.0      \u001b[39;22m Python 2 and 3 compatibility utilities\n",
            "\u001b[36msmmap                    \u001b[39m \u001b[39;1m5.0.1       \u001b[39;22m A pure Python implementation of a sliding window memory ...\n",
            "\u001b[36msniffio                  \u001b[39m \u001b[39;1m1.3.0       \u001b[39;22m Sniff out which async library your code is running under\n",
            "\u001b[36msoupsieve                \u001b[39m \u001b[39;1m2.5         \u001b[39;22m A modern CSS selector implementation for Beautiful Soup.\n",
            "\u001b[36msqlalchemy               \u001b[39m \u001b[39;1m2.0.21      \u001b[39;22m Database Abstraction Library\n",
            "\u001b[36msqlparse                 \u001b[39m \u001b[39;1m0.4.4       \u001b[39;22m A non-validating SQL parser.\n",
            "\u001b[36msqltrie                  \u001b[39m \u001b[39;1m0.8.0       \u001b[39;22m SQL-based prefix tree inspired by pygtrie and python-dis...\n",
            "\u001b[36mstack-data               \u001b[39m \u001b[39;1m0.6.3       \u001b[39;22m Extract data from python stack frames and tracebacks for...\n",
            "\u001b[36msympy                    \u001b[39m \u001b[39;1m1.12        \u001b[39;22m Computer algebra system (CAS) in Python\n",
            "\u001b[36mtabulate                 \u001b[39m \u001b[39;1m0.9.0       \u001b[39;22m Pretty-print tabular data\n",
            "\u001b[36mtensorboard              \u001b[39m \u001b[39;1m2.14.0      \u001b[39;22m TensorBoard lets you watch Tensors Flow\n",
            "\u001b[36mtensorboard-data-server  \u001b[39m \u001b[39;1m0.7.1       \u001b[39;22m Fast data loading for TensorBoard\n",
            "\u001b[36mterminado                \u001b[39m \u001b[39;1m0.17.1      \u001b[39;22m Tornado websocket backend for the Xterm.js Javascript te...\n",
            "\u001b[36mthreadpoolctl            \u001b[39m \u001b[39;1m3.2.0       \u001b[39;22m threadpoolctl\n",
            "\u001b[36mtifffile                 \u001b[39m \u001b[39;1m2023.7.10   \u001b[39;22m Read and write TIFF files\n",
            "\u001b[36mtinycss2                 \u001b[39m \u001b[39;1m1.2.1       \u001b[39;22m A tiny CSS parser\n",
            "\u001b[36mtokenizers               \u001b[39m \u001b[39;1m0.14.0      \u001b[39;22m \n",
            "\u001b[36mtomli                    \u001b[39m \u001b[39;1m2.0.1       \u001b[39;22m A lil' TOML parser\n",
            "\u001b[36mtomlkit                  \u001b[39m \u001b[39;1m0.12.1      \u001b[39;22m Style preserving TOML library\n",
            "\u001b[36mtorch                    \u001b[39m \u001b[39;1m2.0.0       \u001b[39;22m Tensors and Dynamic neural networks in Python with stron...\n",
            "\u001b[36mtornado                  \u001b[39m \u001b[39;1m6.3.3       \u001b[39;22m Tornado is a Python web framework and asynchronous netwo...\n",
            "\u001b[36mtqdm                     \u001b[39m \u001b[39;1m4.66.1      \u001b[39;22m Fast, Extensible Progress Meter\n",
            "\u001b[36mtraitlets                \u001b[39m \u001b[39;1m5.11.2      \u001b[39;22m Traitlets Python configuration system\n",
            "\u001b[36mtransformers             \u001b[39m \u001b[39;1m4.34.0      \u001b[39;22m State-of-the-art Machine Learning for JAX, PyTorch and T...\n",
            "\u001b[36mtriton                   \u001b[39m \u001b[39;1m2.0.0       \u001b[39;22m A language and compiler for custom Deep Learning operations\n",
            "\u001b[36mtyper                    \u001b[39m \u001b[39;1m0.9.0       \u001b[39;22m Typer, build great CLIs. Easy to code. Based on Python t...\n",
            "\u001b[36mtypes-python-dateutil    \u001b[39m \u001b[39;1m2.8.19.14   \u001b[39;22m Typing stubs for python-dateutil\n",
            "\u001b[36mtyping-extensions        \u001b[39m \u001b[39;1m4.8.0       \u001b[39;22m Backported and Experimental Type Hints for Python 3.8+\n",
            "\u001b[36mtzdata                   \u001b[39m \u001b[39;1m2023.3      \u001b[39;22m Provider of IANA time zone data\n",
            "\u001b[36muri-template             \u001b[39m \u001b[39;1m1.3.0       \u001b[39;22m RFC 6570 URI Template Processor\n",
            "\u001b[36murllib3                  \u001b[39m \u001b[39;1m1.26.17     \u001b[39;22m HTTP library with thread-safe connection pooling, file p...\n",
            "\u001b[36mvine                     \u001b[39m \u001b[39;1m5.0.0       \u001b[39;22m Promises, promises, promises.\n",
            "\u001b[36mvoluptuous               \u001b[39m \u001b[39;1m0.13.1      \u001b[39;22m \n",
            "\u001b[36mwandb                    \u001b[39m \u001b[39;1m0.15.11     \u001b[39;22m A CLI and library for interacting with the Weights & Bia...\n",
            "\u001b[36mwcwidth                  \u001b[39m \u001b[39;1m0.2.8       \u001b[39;22m Measures the displayed width of unicode strings in a ter...\n",
            "\u001b[36mwebcolors                \u001b[39m \u001b[39;1m1.13        \u001b[39;22m A library for working with the color formats defined by ...\n",
            "\u001b[36mwebencodings             \u001b[39m \u001b[39;1m0.5.1       \u001b[39;22m Character encoding aliases for legacy web content\n",
            "\u001b[36mwebsocket-client         \u001b[39m \u001b[39;1m1.6.3       \u001b[39;22m WebSocket client for Python with low level API options\n",
            "\u001b[36mweightwatcher            \u001b[39m \u001b[39;1m0.7.3.1     \u001b[39;22m Diagnostic Tool for Deep Neural Networks\n",
            "\u001b[36mwerkzeug                 \u001b[39m \u001b[39;1m3.0.0       \u001b[39;22m The comprehensive WSGI web application library.\n",
            "\u001b[36mwheel                    \u001b[39m \u001b[39;1m0.41.2      \u001b[39;22m A built-package format for Python\n",
            "\u001b[36mwidgetsnbextension       \u001b[39m \u001b[39;1m4.0.9       \u001b[39;22m Jupyter interactive widgets for Jupyter Notebook\n",
            "\u001b[36mwrapt                    \u001b[39m \u001b[39;1m1.15.0      \u001b[39;22m Module for decorators, wrappers and monkey patching.\n",
            "\u001b[36myarl                     \u001b[39m \u001b[39;1m1.9.2       \u001b[39;22m Yet another URL library\n",
            "\u001b[36mzc-lockfile              \u001b[39m \u001b[39;1m3.0.post1   \u001b[39;22m Basic inter-process locks\n",
            "\u001b[36mzipp                     \u001b[39m \u001b[39;1m3.17.0      \u001b[39;22m Backport of pathlib-compatible object wrapper for zip files\n"
          ]
        }
      ],
      "source": [
        "running_in_colab = 'google.colab' in str(get_ipython())\n",
        "if running_in_colab:\n",
        "    print('You are running this on COLAB so installing the environment here')\n",
        "    os.chdir(\"/content\")\n",
        "    !git clone https://github.com/petteriTeikari/minivess_mlops.git\n",
        "    !pip install poetry\n",
        "    os.chdir(\"/content/minivess_mlops\")\n",
        "    !poetry config virtualenvs.in-project true\n",
        "    # Running \"!poetry install --no-ansi\" is needed or not?\n",
        "    !poetry install\n",
        "    #!poetry shell\n",
        "    # https://stackoverflow.com/a/65440080/6412152\n",
        "    !poetry show -v\n",
        "else:\n",
        "    print('Assuming that you are runnign this from IDE,\\n'\n",
        "          'or some other environment where you have your Jupyter kernel created from Poetry files')"
      ],
      "metadata": {
        "ExecuteTime": {
          "end_time": "2023-10-25T01:31:00.965235861Z",
          "start_time": "2023-10-25T01:31:00.962007587Z"
        },
        "id": "23525ddc876b758d",
        "outputId": "0af6609a-b38d-42e3-f6d1-285ae8c258bf",
        "colab": {
          "base_uri": "https://localhost:8080/",
          "height": 1000
        }
      },
      "id": "23525ddc876b758d"
    },
    {
      "cell_type": "markdown",
      "source": [
        "Import the other modules now available from Poetry environment and from the Github repo (see [in_Google_Colab.ipynb](https://github.com/elise-chin/poetry-and-colab/blob/main/Using_python_poetry_in_Google_Colab.ipynb))"
      ],
      "metadata": {
        "collapsed": false,
        "id": "8986f81887cf72c4"
      },
      "id": "8986f81887cf72c4"
    },
    {
      "cell_type": "code",
      "execution_count": 34,
      "outputs": [
        {
          "output_type": "stream",
          "name": "stderr",
          "text": [
            "`should_run_async` will not call `transform_cell` automatically in the future. Please pass the result to `transformed_cell` argument and any exception that happen during thetransform in `preprocessing_exc_tuple` in IPython 7.17 and above.\n"
          ]
        },
        {
          "output_type": "display_data",
          "data": {
            "text/plain": [
              "<IPython.core.display.HTML object>"
            ],
            "text/html": [
              "\n",
              "            <style>\n",
              "                .geemap-dark {\n",
              "                    --jp-widgets-color: white;\n",
              "                    --jp-widgets-label-color: white;\n",
              "                    --jp-ui-font-color1: white;\n",
              "                    --jp-layout-color2: #454545;\n",
              "                    background-color: #383838;\n",
              "                }\n",
              "                    \n",
              "                .geemap-dark .jupyter-button {\n",
              "                    --jp-layout-color3: #383838;\n",
              "                }\n",
              "                \n",
              "                .geemap-colab {\n",
              "                    background-color: var(--colab-primary-surface-color, white);\n",
              "                }\n",
              "                    \n",
              "                .geemap-colab .jupyter-button {\n",
              "                    --jp-layout-color3: var(--colab-primary-surface-color, white);\n",
              "                }\n",
              "            </style>\n",
              "            "
            ]
          },
          "metadata": {}
        },
        {
          "output_type": "stream",
          "name": "stdout",
          "text": [
            "symlink failed, e = [Errno 17] File exists: '/root/.cache/pypoetry/virtualenvs/mlops-1FqrDWw7-py3.10/lib/python3.10/site-packages' -> '/content/venv_poetry'\n"
          ]
        }
      ],
      "source": [
        "VENV_BASE = '/root/.cache/pypoetry/virtualenvs/mlops-1FqrDWw7-py3.10'\n",
        "VENV_PATH = os.path.join(VENV_BASE, 'lib', 'python3.10', 'site-packages')\n",
        "#VENV_PATH = \"/content/gdrive/MyDrive/test-poetry/.venv/lib/python3.8/site-packages\"\n",
        "#!mkdir /content/venv\n",
        "LOCAL_VENV_PATH = '/content/venv_poetry' # local notebook\n",
        "try:\n",
        "  os.symlink(VENV_PATH, LOCAL_VENV_PATH) # connect to directory in drive\n",
        "except Exception as e:\n",
        "  print('symlink failed, e = {}'.format(e))\n",
        "sys.path.insert(0, LOCAL_VENV_PATH)\n",
        "\n",
        "sys.path.insert(0,'/content/minivess_mlops')"
      ],
      "metadata": {
        "ExecuteTime": {
          "end_time": "2023-10-25T01:31:02.499068266Z",
          "start_time": "2023-10-25T01:31:02.486576033Z"
        },
        "id": "18c3a271cdfbd652",
        "outputId": "93da327f-a5a9-4747-8b31-4067b05ecf43",
        "colab": {
          "base_uri": "https://localhost:8080/",
          "height": 73
        }
      },
      "id": "18c3a271cdfbd652"
    },
    {
      "cell_type": "code",
      "source": [
        "from loguru import logger\n",
        "\n",
        "from src.run_training import parse_args_to_dict\n",
        "from src.training.experiment import define_experiment_data\n",
        "from src.utils.config_utils import import_config"
      ],
      "metadata": {
        "id": "zUYqIvC5o7As",
        "outputId": "871fefe8-78be-4b55-c635-b3a3731e4d8d",
        "colab": {
          "base_uri": "https://localhost:8080/",
          "height": 55
        }
      },
      "id": "zUYqIvC5o7As",
      "execution_count": 35,
      "outputs": [
        {
          "output_type": "stream",
          "name": "stderr",
          "text": [
            "`should_run_async` will not call `transform_cell` automatically in the future. Please pass the result to `transformed_cell` argument and any exception that happen during thetransform in `preprocessing_exc_tuple` in IPython 7.17 and above.\n"
          ]
        },
        {
          "output_type": "display_data",
          "data": {
            "text/plain": [
              "<IPython.core.display.HTML object>"
            ],
            "text/html": [
              "\n",
              "            <style>\n",
              "                .geemap-dark {\n",
              "                    --jp-widgets-color: white;\n",
              "                    --jp-widgets-label-color: white;\n",
              "                    --jp-ui-font-color1: white;\n",
              "                    --jp-layout-color2: #454545;\n",
              "                    background-color: #383838;\n",
              "                }\n",
              "                    \n",
              "                .geemap-dark .jupyter-button {\n",
              "                    --jp-layout-color3: #383838;\n",
              "                }\n",
              "                \n",
              "                .geemap-colab {\n",
              "                    background-color: var(--colab-primary-surface-color, white);\n",
              "                }\n",
              "                    \n",
              "                .geemap-colab .jupyter-button {\n",
              "                    --jp-layout-color3: var(--colab-primary-surface-color, white);\n",
              "                }\n",
              "            </style>\n",
              "            "
            ]
          },
          "metadata": {}
        }
      ]
    },
    {
      "cell_type": "markdown",
      "source": [
        "Import helper subfunction(s)"
      ],
      "metadata": {
        "collapsed": false,
        "id": "9aed4aabb6c2f770"
      },
      "id": "9aed4aabb6c2f770"
    },
    {
      "cell_type": "code",
      "execution_count": 36,
      "outputs": [
        {
          "output_type": "stream",
          "name": "stderr",
          "text": [
            "`should_run_async` will not call `transform_cell` automatically in the future. Please pass the result to `transformed_cell` argument and any exception that happen during thetransform in `preprocessing_exc_tuple` in IPython 7.17 and above.\n"
          ]
        },
        {
          "output_type": "display_data",
          "data": {
            "text/plain": [
              "<IPython.core.display.HTML object>"
            ],
            "text/html": [
              "\n",
              "            <style>\n",
              "                .geemap-dark {\n",
              "                    --jp-widgets-color: white;\n",
              "                    --jp-widgets-label-color: white;\n",
              "                    --jp-ui-font-color1: white;\n",
              "                    --jp-layout-color2: #454545;\n",
              "                    background-color: #383838;\n",
              "                }\n",
              "                    \n",
              "                .geemap-dark .jupyter-button {\n",
              "                    --jp-layout-color3: #383838;\n",
              "                }\n",
              "                \n",
              "                .geemap-colab {\n",
              "                    background-color: var(--colab-primary-surface-color, white);\n",
              "                }\n",
              "                    \n",
              "                .geemap-colab .jupyter-button {\n",
              "                    --jp-layout-color3: var(--colab-primary-surface-color, white);\n",
              "                }\n",
              "            </style>\n",
              "            "
            ]
          },
          "metadata": {}
        }
      ],
      "source": [
        "def get_dataloaders(experim_dataloaders: dict):\n",
        "    # Get the \"validation\" and \"train\" dataloaders from the dictionary\n",
        "    fold_name = 'fold0'\n",
        "    split_names = list(experim_dataloaders[fold_name].keys())\n",
        "    fold_key = experim_dataloaders.get(fold_name)\n",
        "    if fold_key is not None:\n",
        "        try:\n",
        "            train = experim_dataloaders[fold_name]['TRAIN']\n",
        "            val = experim_dataloaders[fold_name]['VAL']['MINIVESS']\n",
        "        except Exception as e:\n",
        "            raise IOError('Could not get the dataloaders from the dictionary, error = {}'.format(e))\n",
        "    else:\n",
        "        raise IOError('Fold name = \"{}\" not found in the dataloaders dictionary'.format(fold_name))\n",
        "    return train, val"
      ],
      "metadata": {
        "ExecuteTime": {
          "end_time": "2023-10-25T01:31:07.120380382Z",
          "start_time": "2023-10-25T01:31:07.114209819Z"
        },
        "id": "3e05f12233738a40",
        "outputId": "2a70930b-aab2-4277-a222-768a8b231ba4",
        "colab": {
          "base_uri": "https://localhost:8080/",
          "height": 55
        }
      },
      "id": "3e05f12233738a40"
    },
    {
      "cell_type": "markdown",
      "source": [
        "Input arguments for the training (you can add all the input arguments supported by `run_training.py` here"
      ],
      "metadata": {
        "collapsed": false,
        "id": "285ff9d623a96c9f"
      },
      "id": "285ff9d623a96c9f"
    },
    {
      "cell_type": "code",
      "execution_count": 37,
      "outputs": [
        {
          "output_type": "stream",
          "name": "stderr",
          "text": [
            "`should_run_async` will not call `transform_cell` automatically in the future. Please pass the result to `transformed_cell` argument and any exception that happen during thetransform in `preprocessing_exc_tuple` in IPython 7.17 and above.\n"
          ]
        },
        {
          "output_type": "display_data",
          "data": {
            "text/plain": [
              "<IPython.core.display.HTML object>"
            ],
            "text/html": [
              "\n",
              "            <style>\n",
              "                .geemap-dark {\n",
              "                    --jp-widgets-color: white;\n",
              "                    --jp-widgets-label-color: white;\n",
              "                    --jp-ui-font-color1: white;\n",
              "                    --jp-layout-color2: #454545;\n",
              "                    background-color: #383838;\n",
              "                }\n",
              "                    \n",
              "                .geemap-dark .jupyter-button {\n",
              "                    --jp-layout-color3: #383838;\n",
              "                }\n",
              "                \n",
              "                .geemap-colab {\n",
              "                    background-color: var(--colab-primary-surface-color, white);\n",
              "                }\n",
              "                    \n",
              "                .geemap-colab .jupyter-button {\n",
              "                    --jp-layout-color3: var(--colab-primary-surface-color, white);\n",
              "                }\n",
              "            </style>\n",
              "            "
            ]
          },
          "metadata": {}
        },
        {
          "output_type": "stream",
          "name": "stderr",
          "text": [
            "2023-10-25 02:25:01.222 | INFO     | src.run_training:parse_args_to_dict:73 - Parsed input arguments:\n",
            "2023-10-25 02:25:01.224 | INFO     | src.utils.general_utils:print_dict_to_logger:40 -   task_config_file: tutorials/train_demo\n",
            "2023-10-25 02:25:01.226 | INFO     | src.utils.general_utils:print_dict_to_logger:40 -   run_mode: train\n",
            "2023-10-25 02:25:01.228 | INFO     | src.utils.general_utils:print_dict_to_logger:40 -   data_dir: /mnt/minivess-dvc-cache\n",
            "2023-10-25 02:25:01.234 | INFO     | src.utils.general_utils:print_dict_to_logger:40 -   output_dir: /mnt/minivess-artifacts\n",
            "2023-10-25 02:25:01.235 | INFO     | src.utils.general_utils:print_dict_to_logger:40 -   s3_mount: False\n",
            "2023-10-25 02:25:01.236 | INFO     | src.utils.general_utils:print_dict_to_logger:40 -   local_rank: 0\n",
            "2023-10-25 02:25:01.237 | INFO     | src.utils.general_utils:print_dict_to_logger:40 -   project_name: MINIVESS_segmentation_TEST\n"
          ]
        }
      ],
      "source": [
        "input_args = ['-c', 'tutorials/train_demo']\n",
        "\n",
        "# Fake these as coming from the command line to match the main code (run_training.py)\n",
        "sys.argv = ['notebook_run']  # Jupyter has all the extra crap, so replace that with this\n",
        "for sysargv in input_args:\n",
        "    sys.argv.append(sysargv)\n",
        "args = parse_args_to_dict()"
      ],
      "metadata": {
        "ExecuteTime": {
          "end_time": "2023-10-25T01:31:08.972102213Z",
          "start_time": "2023-10-25T01:31:08.946666458Z"
        },
        "id": "cfe20cf4816832a7",
        "outputId": "85287a1e-de1e-41ab-c180-ec159791bc98",
        "colab": {
          "base_uri": "https://localhost:8080/",
          "height": 197
        }
      },
      "id": "cfe20cf4816832a7"
    },
    {
      "cell_type": "markdown",
      "source": [
        "Create the config with Hydra from the .yaml file(s)"
      ],
      "metadata": {
        "collapsed": false,
        "id": "91f922a0c5e5c340"
      },
      "id": "91f922a0c5e5c340"
    },
    {
      "cell_type": "code",
      "execution_count": 38,
      "outputs": [
        {
          "output_type": "stream",
          "name": "stderr",
          "text": [
            "`should_run_async` will not call `transform_cell` automatically in the future. Please pass the result to `transformed_cell` argument and any exception that happen during thetransform in `preprocessing_exc_tuple` in IPython 7.17 and above.\n"
          ]
        },
        {
          "output_type": "display_data",
          "data": {
            "text/plain": [
              "<IPython.core.display.HTML object>"
            ],
            "text/html": [
              "\n",
              "            <style>\n",
              "                .geemap-dark {\n",
              "                    --jp-widgets-color: white;\n",
              "                    --jp-widgets-label-color: white;\n",
              "                    --jp-ui-font-color1: white;\n",
              "                    --jp-layout-color2: #454545;\n",
              "                    background-color: #383838;\n",
              "                }\n",
              "                    \n",
              "                .geemap-dark .jupyter-button {\n",
              "                    --jp-layout-color3: #383838;\n",
              "                }\n",
              "                \n",
              "                .geemap-colab {\n",
              "                    background-color: var(--colab-primary-surface-color, white);\n",
              "                }\n",
              "                    \n",
              "                .geemap-colab .jupyter-button {\n",
              "                    --jp-layout-color3: var(--colab-primary-surface-color, white);\n",
              "                }\n",
              "            </style>\n",
              "            "
            ]
          },
          "metadata": {}
        },
        {
          "output_type": "stream",
          "name": "stderr",
          "text": [
            "2023-10-25 02:25:05.506 | ERROR    | src.utils.config_utils:get_config_path:36 - Configuration dir \"/content/minivess_mlops/../configs\" does not exist!\n"
          ]
        },
        {
          "output_type": "error",
          "ename": "OSError",
          "evalue": "ignored",
          "traceback": [
            "\u001b[0;31m---------------------------------------------------------------------------\u001b[0m",
            "\u001b[0;31mOSError\u001b[0m                                   Traceback (most recent call last)",
            "\u001b[0;32m<ipython-input-38-501f7eeb7abf>\u001b[0m in \u001b[0;36m<cell line: 1>\u001b[0;34m()\u001b[0m\n\u001b[0;32m----> 1\u001b[0;31m \u001b[0mconfig\u001b[0m\u001b[0;34m,\u001b[0m \u001b[0mexp_run\u001b[0m \u001b[0;34m=\u001b[0m \u001b[0mimport_config\u001b[0m\u001b[0;34m(\u001b[0m\u001b[0margs\u001b[0m\u001b[0;34m=\u001b[0m\u001b[0margs\u001b[0m\u001b[0;34m,\u001b[0m \u001b[0mtask_cfg_name\u001b[0m\u001b[0;34m=\u001b[0m\u001b[0margs\u001b[0m\u001b[0;34m[\u001b[0m\u001b[0;34m'task_config_file'\u001b[0m\u001b[0;34m]\u001b[0m\u001b[0;34m)\u001b[0m\u001b[0;34m\u001b[0m\u001b[0;34m\u001b[0m\u001b[0m\n\u001b[0m",
            "\u001b[0;32m/content/minivess_mlops/src/utils/config_utils.py\u001b[0m in \u001b[0;36mimport_config\u001b[0;34m(args, task_cfg_name, reprod_cfg_name, log_level)\u001b[0m\n\u001b[1;32m    108\u001b[0m \u001b[0;34m\u001b[0m\u001b[0m\n\u001b[1;32m    109\u001b[0m     \u001b[0;31m# Define the paths needed to create the Hydra config\u001b[0m\u001b[0;34m\u001b[0m\u001b[0;34m\u001b[0m\u001b[0m\n\u001b[0;32m--> 110\u001b[0;31m     hydra_cfg_paths = get_hydra_config_paths(task_cfg_name=task_cfg_name,\n\u001b[0m\u001b[1;32m    111\u001b[0m                                              reprod_cfg_name=reprod_cfg_name)\n\u001b[1;32m    112\u001b[0m \u001b[0;34m\u001b[0m\u001b[0m\n",
            "\u001b[0;32m/content/minivess_mlops/src/utils/config_utils.py\u001b[0m in \u001b[0;36mget_hydra_config_paths\u001b[0;34m(task_cfg_name, reprod_cfg_name)\u001b[0m\n\u001b[1;32m     58\u001b[0m \u001b[0;34m\u001b[0m\u001b[0m\n\u001b[1;32m     59\u001b[0m     \u001b[0;32melse\u001b[0m\u001b[0;34m:\u001b[0m\u001b[0;34m\u001b[0m\u001b[0;34m\u001b[0m\u001b[0m\n\u001b[0;32m---> 60\u001b[0;31m         \u001b[0mabs_cfg_path\u001b[0m\u001b[0;34m,\u001b[0m \u001b[0mconfig_path\u001b[0m \u001b[0;34m=\u001b[0m \u001b[0mget_config_path\u001b[0m\u001b[0;34m(\u001b[0m\u001b[0;34m)\u001b[0m\u001b[0;34m\u001b[0m\u001b[0;34m\u001b[0m\u001b[0m\n\u001b[0m\u001b[1;32m     61\u001b[0m         overrides_list, abs_task_cfg_path = (\n\u001b[1;32m     62\u001b[0m             get_task_cfg_overrides_list(task_cfg_name=task_cfg_name,\n",
            "\u001b[0;32m/content/minivess_mlops/src/utils/config_utils.py\u001b[0m in \u001b[0;36mget_config_path\u001b[0;34m()\u001b[0m\n\u001b[1;32m     35\u001b[0m         \u001b[0;32mif\u001b[0m \u001b[0;32mnot\u001b[0m \u001b[0mos\u001b[0m\u001b[0;34m.\u001b[0m\u001b[0mpath\u001b[0m\u001b[0;34m.\u001b[0m\u001b[0mexists\u001b[0m\u001b[0;34m(\u001b[0m\u001b[0mabsolute_config_dir\u001b[0m\u001b[0;34m)\u001b[0m\u001b[0;34m:\u001b[0m\u001b[0;34m\u001b[0m\u001b[0;34m\u001b[0m\u001b[0m\n\u001b[1;32m     36\u001b[0m             \u001b[0mlogger\u001b[0m\u001b[0;34m.\u001b[0m\u001b[0merror\u001b[0m\u001b[0;34m(\u001b[0m\u001b[0;34m'Configuration dir \"{}\" does not exist!'\u001b[0m\u001b[0;34m.\u001b[0m\u001b[0mformat\u001b[0m\u001b[0;34m(\u001b[0m\u001b[0mabsolute_config_dir\u001b[0m\u001b[0;34m)\u001b[0m\u001b[0;34m)\u001b[0m\u001b[0;34m\u001b[0m\u001b[0;34m\u001b[0m\u001b[0m\n\u001b[0;32m---> 37\u001b[0;31m             \u001b[0;32mraise\u001b[0m \u001b[0mIOError\u001b[0m\u001b[0;34m(\u001b[0m\u001b[0;34m'Configuration dir \"{}\" does not exist!'\u001b[0m\u001b[0;34m.\u001b[0m\u001b[0mformat\u001b[0m\u001b[0;34m(\u001b[0m\u001b[0mabsolute_config_dir\u001b[0m\u001b[0;34m)\u001b[0m\u001b[0;34m)\u001b[0m\u001b[0;34m\u001b[0m\u001b[0;34m\u001b[0m\u001b[0m\n\u001b[0m\u001b[1;32m     38\u001b[0m         \u001b[0mrelative_config_dir\u001b[0m \u001b[0;34m=\u001b[0m \u001b[0mos\u001b[0m\u001b[0;34m.\u001b[0m\u001b[0mpath\u001b[0m\u001b[0;34m.\u001b[0m\u001b[0mjoin\u001b[0m\u001b[0;34m(\u001b[0m\u001b[0;34m'..'\u001b[0m\u001b[0;34m,\u001b[0m \u001b[0;34m'configs'\u001b[0m\u001b[0;34m)\u001b[0m\u001b[0;34m\u001b[0m\u001b[0;34m\u001b[0m\u001b[0m\n\u001b[1;32m     39\u001b[0m         \u001b[0;32mreturn\u001b[0m \u001b[0mabsolute_config_dir\u001b[0m\u001b[0;34m,\u001b[0m \u001b[0mrelative_config_dir\u001b[0m\u001b[0;34m\u001b[0m\u001b[0;34m\u001b[0m\u001b[0m\n",
            "\u001b[0;31mOSError\u001b[0m: Configuration dir \"/content/minivess_mlops/../configs\" does not exist!"
          ]
        }
      ],
      "source": [
        "config, exp_run = import_config(args=args, task_cfg_name=args['task_config_file'])"
      ],
      "metadata": {
        "ExecuteTime": {
          "end_time": "2023-10-25T01:31:10.428700721Z",
          "start_time": "2023-10-25T01:31:10.169865984Z"
        },
        "id": "c432cc673828082d",
        "outputId": "c713c194-7449-4f03-ab46-b5154f261235",
        "colab": {
          "base_uri": "https://localhost:8080/",
          "height": 383
        }
      },
      "id": "c432cc673828082d"
    },
    {
      "cell_type": "markdown",
      "source": [
        "Import the dataloaders (now the data augmentations are here as well as data transformations)"
      ],
      "metadata": {
        "collapsed": false,
        "id": "40c67cdc100d7ebc"
      },
      "id": "40c67cdc100d7ebc"
    },
    {
      "cell_type": "code",
      "execution_count": null,
      "outputs": [],
      "source": [
        "_, _, experim_dataloaders, exp_run = (\n",
        "        define_experiment_data(config=config,\n",
        "                               exp_run=exp_run))\n",
        "\n",
        "# Get the \"validation\" and \"train\" dataloaders from the dictionary\n",
        "train, val = get_dataloaders(experim_dataloaders)"
      ],
      "metadata": {
        "ExecuteTime": {
          "end_time": "2023-10-25T01:26:37.985819948Z",
          "start_time": "2023-10-25T01:26:37.650394408Z"
        },
        "id": "e231509f5afb185"
      },
      "id": "e231509f5afb185"
    },
    {
      "cell_type": "markdown",
      "source": [
        "Now you are ready to train your new model that you just wanna quickly test without\n",
        "wanting to have a battle with the config .YAML files\n",
        "\n",
        "Add maybe some fastai demo with MLflow autologging:\n",
        "[https://github.com/mlflow/mlflow/blob/master/examples/fastai/train.py](https://github.com/mlflow/mlflow/blob/master/examples/fastai/train.py)"
      ],
      "metadata": {
        "collapsed": false,
        "id": "730a808f93390d1e"
      },
      "id": "730a808f93390d1e"
    },
    {
      "cell_type": "code",
      "execution_count": null,
      "outputs": [],
      "source": [
        "# Iterate the dataloaders for demo\n",
        "no_of_epochs = 3\n",
        "logger.info('Training for {} epochs'.format(no_of_epochs))\n",
        "for epoch in range(no_of_epochs):\n",
        "\n",
        "    logger.info('Epoch {}/{}'.format(epoch, no_of_epochs - 1))\n",
        "\n",
        "    # Train\n",
        "    logger.info('train with {} batches'.format(len(train)))\n",
        "    for i, batch in enumerate(train):\n",
        "        images, mask = batch['image'], batch['label']\n",
        "\n",
        "    # Validation\n",
        "    logger.info('validate with {} batches'.format(len(train)))\n",
        "    for j, batch in enumerate(val):\n",
        "        images, mask = batch['image'], batch['label']\n",
        "\n",
        "logger.info('Training done!')"
      ],
      "metadata": {
        "ExecuteTime": {
          "end_time": "2023-10-25T01:28:33.785824734Z",
          "start_time": "2023-10-25T01:26:37.990647342Z"
        },
        "id": "ee4ad4c2e241e65b"
      },
      "id": "ee4ad4c2e241e65b"
    }
  ],
  "metadata": {
    "kernelspec": {
      "name": "python3",
      "language": "python",
      "display_name": "Python 3 (ipykernel)"
    },
    "language_info": {
      "codemirror_mode": {
        "name": "ipython",
        "version": 2
      },
      "file_extension": ".py",
      "mimetype": "text/x-python",
      "name": "python",
      "nbconvert_exporter": "python",
      "pygments_lexer": "ipython2",
      "version": "2.7.6"
    },
    "colab": {
      "provenance": [],
      "include_colab_link": true
    }
  },
  "nbformat": 4,
  "nbformat_minor": 5
}