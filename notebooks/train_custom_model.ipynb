{
  "cells": [
    {
      "cell_type": "markdown",
      "metadata": {
        "id": "view-in-github",
        "colab_type": "text"
      },
      "source": [
        "<a href=\"https://colab.research.google.com/github/petteriTeikari/minivess_mlops/blob/main/notebooks/train_custom_model.ipynb\" target=\"_parent\"><img src=\"https://colab.research.google.com/assets/colab-badge.svg\" alt=\"Open In Colab\"/></a>"
      ]
    },
    {
      "cell_type": "markdown",
      "source": [
        "# Use a custom model quickly\n",
        "\n",
        "Reuse the data(loader) from the \"ML pipe\""
      ],
      "metadata": {
        "collapsed": false,
        "id": "7dba488f6c9898c9"
      },
      "id": "7dba488f6c9898c9"
    },
    {
      "cell_type": "markdown",
      "source": [
        "If you run this Notebook on Colab, you need to install the Virtual Environment with Poetry yourself (what I understood):"
      ],
      "metadata": {
        "collapsed": false,
        "id": "df06e624709b6250"
      },
      "id": "df06e624709b6250"
    },
    {
      "cell_type": "code",
      "execution_count": 1,
      "outputs": [
        {
          "output_type": "stream",
          "name": "stdout",
          "text": [
            "You are running this on COLAB so installing the environment here\n",
            "fatal: destination path 'minivess_mlops' already exists and is not an empty directory.\n",
            "Requirement already satisfied: poetry in /usr/local/lib/python3.10/dist-packages (1.6.1)\n",
            "Requirement already satisfied: build<0.11.0,>=0.10.0 in /usr/local/lib/python3.10/dist-packages (from poetry) (0.10.0)\n",
            "Requirement already satisfied: cachecontrol[filecache]<0.14.0,>=0.13.0 in /usr/local/lib/python3.10/dist-packages (from poetry) (0.13.1)\n",
            "Requirement already satisfied: cleo<3.0.0,>=2.0.0 in /usr/local/lib/python3.10/dist-packages (from poetry) (2.1.0)\n",
            "Requirement already satisfied: crashtest<0.5.0,>=0.4.1 in /usr/local/lib/python3.10/dist-packages (from poetry) (0.4.1)\n",
            "Requirement already satisfied: dulwich<0.22.0,>=0.21.2 in /usr/local/lib/python3.10/dist-packages (from poetry) (0.21.6)\n",
            "Requirement already satisfied: installer<0.8.0,>=0.7.0 in /usr/local/lib/python3.10/dist-packages (from poetry) (0.7.0)\n",
            "Requirement already satisfied: jsonschema<4.18.0,>=4.10.0 in /usr/local/lib/python3.10/dist-packages (from poetry) (4.17.3)\n",
            "Requirement already satisfied: keyring<25.0.0,>=24.0.0 in /usr/local/lib/python3.10/dist-packages (from poetry) (24.2.0)\n",
            "Requirement already satisfied: packaging>=20.4 in /usr/local/lib/python3.10/dist-packages (from poetry) (23.2)\n",
            "Requirement already satisfied: pexpect<5.0.0,>=4.7.0 in /usr/local/lib/python3.10/dist-packages (from poetry) (4.8.0)\n",
            "Requirement already satisfied: pkginfo<2.0.0,>=1.9.4 in /usr/local/lib/python3.10/dist-packages (from poetry) (1.9.6)\n",
            "Requirement already satisfied: platformdirs<4.0.0,>=3.0.0 in /usr/local/lib/python3.10/dist-packages (from poetry) (3.11.0)\n",
            "Requirement already satisfied: poetry-core==1.7.0 in /usr/local/lib/python3.10/dist-packages (from poetry) (1.7.0)\n",
            "Requirement already satisfied: poetry-plugin-export<2.0.0,>=1.5.0 in /usr/local/lib/python3.10/dist-packages (from poetry) (1.6.0)\n",
            "Requirement already satisfied: pyproject-hooks<2.0.0,>=1.0.0 in /usr/local/lib/python3.10/dist-packages (from poetry) (1.0.0)\n",
            "Requirement already satisfied: requests<3.0,>=2.26 in /usr/local/lib/python3.10/dist-packages (from poetry) (2.31.0)\n",
            "Requirement already satisfied: requests-toolbelt<2,>=0.9.1 in /usr/local/lib/python3.10/dist-packages (from poetry) (1.0.0)\n",
            "Requirement already satisfied: shellingham<2.0,>=1.5 in /usr/local/lib/python3.10/dist-packages (from poetry) (1.5.4)\n",
            "Requirement already satisfied: tomli<3.0.0,>=2.0.1 in /usr/local/lib/python3.10/dist-packages (from poetry) (2.0.1)\n",
            "Requirement already satisfied: tomlkit<1.0.0,>=0.11.4 in /usr/local/lib/python3.10/dist-packages (from poetry) (0.12.1)\n",
            "Requirement already satisfied: trove-classifiers>=2022.5.19 in /usr/local/lib/python3.10/dist-packages (from poetry) (2023.10.18)\n",
            "Requirement already satisfied: virtualenv<21.0.0,>=20.22.0 in /usr/local/lib/python3.10/dist-packages (from poetry) (20.24.6)\n",
            "Requirement already satisfied: msgpack>=0.5.2 in /usr/local/lib/python3.10/dist-packages (from cachecontrol[filecache]<0.14.0,>=0.13.0->poetry) (1.0.7)\n",
            "Requirement already satisfied: filelock>=3.8.0 in /usr/local/lib/python3.10/dist-packages (from cachecontrol[filecache]<0.14.0,>=0.13.0->poetry) (3.12.4)\n",
            "Requirement already satisfied: rapidfuzz<4.0.0,>=3.0.0 in /usr/local/lib/python3.10/dist-packages (from cleo<3.0.0,>=2.0.0->poetry) (3.5.1)\n",
            "Requirement already satisfied: urllib3>=1.25 in /usr/local/lib/python3.10/dist-packages (from dulwich<0.22.0,>=0.21.2->poetry) (2.0.7)\n",
            "Requirement already satisfied: attrs>=17.4.0 in /usr/local/lib/python3.10/dist-packages (from jsonschema<4.18.0,>=4.10.0->poetry) (23.1.0)\n",
            "Requirement already satisfied: pyrsistent!=0.17.0,!=0.17.1,!=0.17.2,>=0.14.0 in /usr/local/lib/python3.10/dist-packages (from jsonschema<4.18.0,>=4.10.0->poetry) (0.20.0)\n",
            "Requirement already satisfied: jaraco.classes in /usr/local/lib/python3.10/dist-packages (from keyring<25.0.0,>=24.0.0->poetry) (3.3.0)\n",
            "Requirement already satisfied: importlib-metadata>=4.11.4 in /usr/local/lib/python3.10/dist-packages (from keyring<25.0.0,>=24.0.0->poetry) (6.8.0)\n",
            "Requirement already satisfied: SecretStorage>=3.2 in /usr/lib/python3/dist-packages (from keyring<25.0.0,>=24.0.0->poetry) (3.3.1)\n",
            "Requirement already satisfied: jeepney>=0.4.2 in /usr/lib/python3/dist-packages (from keyring<25.0.0,>=24.0.0->poetry) (0.7.1)\n",
            "Requirement already satisfied: ptyprocess>=0.5 in /usr/local/lib/python3.10/dist-packages (from pexpect<5.0.0,>=4.7.0->poetry) (0.7.0)\n",
            "Requirement already satisfied: charset-normalizer<4,>=2 in /usr/local/lib/python3.10/dist-packages (from requests<3.0,>=2.26->poetry) (3.3.1)\n",
            "Requirement already satisfied: idna<4,>=2.5 in /usr/local/lib/python3.10/dist-packages (from requests<3.0,>=2.26->poetry) (3.4)\n",
            "Requirement already satisfied: certifi>=2017.4.17 in /usr/local/lib/python3.10/dist-packages (from requests<3.0,>=2.26->poetry) (2023.7.22)\n",
            "Requirement already satisfied: distlib<1,>=0.3.7 in /usr/local/lib/python3.10/dist-packages (from virtualenv<21.0.0,>=20.22.0->poetry) (0.3.7)\n",
            "Requirement already satisfied: zipp>=0.5 in /usr/local/lib/python3.10/dist-packages (from importlib-metadata>=4.11.4->keyring<25.0.0,>=24.0.0->poetry) (3.17.0)\n",
            "Requirement already satisfied: more-itertools in /usr/local/lib/python3.10/dist-packages (from jaraco.classes->keyring<25.0.0,>=24.0.0->poetry) (10.1.0)\n",
            "\u001b[34mInstalling dependencies from lock file\u001b[39m\n",
            "\n",
            "No dependencies to install or update\n",
            "Requirement already satisfied: dvc in /usr/local/lib/python3.10/dist-packages (3.28.0)\n",
            "Requirement already satisfied: colorama>=0.3.9 in /usr/local/lib/python3.10/dist-packages (from dvc) (0.4.6)\n",
            "Requirement already satisfied: configobj>=5.0.6 in /usr/local/lib/python3.10/dist-packages (from dvc) (5.0.8)\n",
            "Requirement already satisfied: distro>=1.3 in /usr/lib/python3/dist-packages (from dvc) (1.7.0)\n",
            "Requirement already satisfied: dpath<3,>=2.1.0 in /usr/local/lib/python3.10/dist-packages (from dvc) (2.1.6)\n",
            "Requirement already satisfied: dvc-data<2.21.0,>=2.20.0 in /usr/local/lib/python3.10/dist-packages (from dvc) (2.20.0)\n",
            "Requirement already satisfied: dvc-http>=2.29.0 in /usr/local/lib/python3.10/dist-packages (from dvc) (2.30.2)\n",
            "Requirement already satisfied: dvc-render<1,>=0.3.1 in /usr/local/lib/python3.10/dist-packages (from dvc) (0.6.0)\n",
            "Requirement already satisfied: dvc-studio-client<1,>=0.13.0 in /usr/local/lib/python3.10/dist-packages (from dvc) (0.15.0)\n",
            "Requirement already satisfied: dvc-task<1,>=0.3.0 in /usr/local/lib/python3.10/dist-packages (from dvc) (0.3.0)\n",
            "Requirement already satisfied: flatten-dict<1,>=0.4.1 in /usr/local/lib/python3.10/dist-packages (from dvc) (0.4.2)\n",
            "Requirement already satisfied: flufl.lock<8,>=5 in /usr/local/lib/python3.10/dist-packages (from dvc) (7.1.1)\n",
            "Requirement already satisfied: funcy>=1.14 in /usr/local/lib/python3.10/dist-packages (from dvc) (2.0)\n",
            "Requirement already satisfied: grandalf<1,>=0.7 in /usr/local/lib/python3.10/dist-packages (from dvc) (0.8)\n",
            "Requirement already satisfied: gto<2,>=1.4.0 in /usr/local/lib/python3.10/dist-packages (from dvc) (1.5.0)\n",
            "Requirement already satisfied: hydra-core>=1.1 in /usr/local/lib/python3.10/dist-packages (from dvc) (1.3.2)\n",
            "Requirement already satisfied: iterative-telemetry>=0.0.7 in /usr/local/lib/python3.10/dist-packages (from dvc) (0.0.8)\n",
            "Requirement already satisfied: networkx>=2.5 in /usr/local/lib/python3.10/dist-packages (from dvc) (3.2)\n",
            "Requirement already satisfied: packaging>=19 in /usr/local/lib/python3.10/dist-packages (from dvc) (23.2)\n",
            "Requirement already satisfied: pathspec>=0.10.3 in /usr/local/lib/python3.10/dist-packages (from dvc) (0.11.2)\n",
            "Requirement already satisfied: platformdirs<4,>=3.1.1 in /usr/local/lib/python3.10/dist-packages (from dvc) (3.11.0)\n",
            "Requirement already satisfied: psutil>=5.8 in /usr/local/lib/python3.10/dist-packages (from dvc) (5.9.5)\n",
            "Requirement already satisfied: pydot>=1.2.4 in /usr/local/lib/python3.10/dist-packages (from dvc) (1.4.2)\n",
            "Requirement already satisfied: pygtrie>=2.3.2 in /usr/local/lib/python3.10/dist-packages (from dvc) (2.5.0)\n",
            "Requirement already satisfied: pyparsing>=2.4.7 in /usr/local/lib/python3.10/dist-packages (from dvc) (3.1.1)\n",
            "Requirement already satisfied: requests>=2.22 in /usr/local/lib/python3.10/dist-packages (from dvc) (2.31.0)\n",
            "Requirement already satisfied: rich>=12 in /usr/local/lib/python3.10/dist-packages (from dvc) (13.6.0)\n",
            "Requirement already satisfied: ruamel.yaml>=0.17.11 in /usr/local/lib/python3.10/dist-packages (from dvc) (0.18.4)\n",
            "Requirement already satisfied: scmrepo<2,>=1.2.1 in /usr/local/lib/python3.10/dist-packages (from dvc) (1.4.1)\n",
            "Requirement already satisfied: shortuuid>=0.5 in /usr/local/lib/python3.10/dist-packages (from dvc) (1.0.11)\n",
            "Requirement already satisfied: shtab<2,>=1.3.4 in /usr/local/lib/python3.10/dist-packages (from dvc) (1.6.4)\n",
            "Requirement already satisfied: tabulate>=0.8.7 in /usr/local/lib/python3.10/dist-packages (from dvc) (0.9.0)\n",
            "Requirement already satisfied: tomlkit>=0.11.1 in /usr/local/lib/python3.10/dist-packages (from dvc) (0.12.1)\n",
            "Requirement already satisfied: tqdm<5,>=4.63.1 in /usr/local/lib/python3.10/dist-packages (from dvc) (4.66.1)\n",
            "Requirement already satisfied: voluptuous>=0.11.7 in /usr/local/lib/python3.10/dist-packages (from dvc) (0.13.1)\n",
            "Requirement already satisfied: zc.lockfile>=1.2.1 in /usr/local/lib/python3.10/dist-packages (from dvc) (3.0.post1)\n",
            "Requirement already satisfied: six in /usr/local/lib/python3.10/dist-packages (from configobj>=5.0.6->dvc) (1.16.0)\n",
            "Requirement already satisfied: dictdiffer>=0.8.1 in /usr/local/lib/python3.10/dist-packages (from dvc-data<2.21.0,>=2.20.0->dvc) (0.9.0)\n",
            "Requirement already satisfied: dvc-objects<2,>=1.1.0 in /usr/local/lib/python3.10/dist-packages (from dvc-data<2.21.0,>=2.20.0->dvc) (1.1.0)\n",
            "Requirement already satisfied: diskcache>=5.2.1 in /usr/local/lib/python3.10/dist-packages (from dvc-data<2.21.0,>=2.20.0->dvc) (5.6.3)\n",
            "Requirement already satisfied: attrs>=21.3.0 in /usr/local/lib/python3.10/dist-packages (from dvc-data<2.21.0,>=2.20.0->dvc) (23.1.0)\n",
            "Requirement already satisfied: sqltrie<1,>=0.8.0 in /usr/local/lib/python3.10/dist-packages (from dvc-data<2.21.0,>=2.20.0->dvc) (0.8.0)\n",
            "Requirement already satisfied: fsspec[http] in /usr/local/lib/python3.10/dist-packages (from dvc-http>=2.29.0->dvc) (2023.6.0)\n",
            "Requirement already satisfied: aiohttp-retry>=2.5.0 in /usr/local/lib/python3.10/dist-packages (from dvc-http>=2.29.0->dvc) (2.8.3)\n",
            "Requirement already satisfied: dulwich in /usr/local/lib/python3.10/dist-packages (from dvc-studio-client<1,>=0.13.0->dvc) (0.21.6)\n",
            "Requirement already satisfied: celery<6,>=5.3.0 in /usr/local/lib/python3.10/dist-packages (from dvc-task<1,>=0.3.0->dvc) (5.3.4)\n",
            "Requirement already satisfied: kombu<6,>=5.3.0 in /usr/local/lib/python3.10/dist-packages (from dvc-task<1,>=0.3.0->dvc) (5.3.2)\n",
            "Requirement already satisfied: atpublic>=2.3 in /usr/local/lib/python3.10/dist-packages (from flufl.lock<8,>=5->dvc) (4.0)\n",
            "Requirement already satisfied: typer>=0.4.1 in /usr/local/lib/python3.10/dist-packages (from gto<2,>=1.4.0->dvc) (0.9.0)\n",
            "Requirement already satisfied: pydantic!=2.0.0,<3,>=1.9.0 in /usr/local/lib/python3.10/dist-packages (from gto<2,>=1.4.0->dvc) (1.10.13)\n",
            "Requirement already satisfied: semver>=3.0.0 in /usr/local/lib/python3.10/dist-packages (from gto<2,>=1.4.0->dvc) (3.0.2)\n",
            "Requirement already satisfied: entrypoints in /usr/local/lib/python3.10/dist-packages (from gto<2,>=1.4.0->dvc) (0.4)\n",
            "Requirement already satisfied: omegaconf<2.4,>=2.2 in /usr/local/lib/python3.10/dist-packages (from hydra-core>=1.1->dvc) (2.3.0)\n",
            "Requirement already satisfied: antlr4-python3-runtime==4.9.* in /usr/local/lib/python3.10/dist-packages (from hydra-core>=1.1->dvc) (4.9.3)\n",
            "Requirement already satisfied: appdirs in /usr/local/lib/python3.10/dist-packages (from iterative-telemetry>=0.0.7->dvc) (1.4.4)\n",
            "Requirement already satisfied: filelock in /usr/local/lib/python3.10/dist-packages (from iterative-telemetry>=0.0.7->dvc) (3.12.4)\n",
            "Requirement already satisfied: charset-normalizer<4,>=2 in /usr/local/lib/python3.10/dist-packages (from requests>=2.22->dvc) (3.3.1)\n",
            "Requirement already satisfied: idna<4,>=2.5 in /usr/local/lib/python3.10/dist-packages (from requests>=2.22->dvc) (3.4)\n",
            "Requirement already satisfied: urllib3<3,>=1.21.1 in /usr/local/lib/python3.10/dist-packages (from requests>=2.22->dvc) (2.0.7)\n",
            "Requirement already satisfied: certifi>=2017.4.17 in /usr/local/lib/python3.10/dist-packages (from requests>=2.22->dvc) (2023.7.22)\n",
            "Requirement already satisfied: markdown-it-py>=2.2.0 in /usr/local/lib/python3.10/dist-packages (from rich>=12->dvc) (3.0.0)\n",
            "Requirement already satisfied: pygments<3.0.0,>=2.13.0 in /usr/local/lib/python3.10/dist-packages (from rich>=12->dvc) (2.16.1)\n",
            "Requirement already satisfied: ruamel.yaml.clib>=0.2.7 in /usr/local/lib/python3.10/dist-packages (from ruamel.yaml>=0.17.11->dvc) (0.2.8)\n",
            "Requirement already satisfied: gitpython>3 in /usr/local/lib/python3.10/dist-packages (from scmrepo<2,>=1.2.1->dvc) (3.1.40)\n",
            "Requirement already satisfied: pygit2>=1.13.0 in /usr/local/lib/python3.10/dist-packages (from scmrepo<2,>=1.2.1->dvc) (1.13.2)\n",
            "Requirement already satisfied: asyncssh<3,>=2.13.1 in /usr/local/lib/python3.10/dist-packages (from scmrepo<2,>=1.2.1->dvc) (2.14.0)\n",
            "Requirement already satisfied: setuptools in /usr/local/lib/python3.10/dist-packages (from zc.lockfile>=1.2.1->dvc) (67.7.2)\n",
            "Requirement already satisfied: aiohttp in /usr/local/lib/python3.10/dist-packages (from aiohttp-retry>=2.5.0->dvc-http>=2.29.0->dvc) (3.8.6)\n",
            "Requirement already satisfied: cryptography>=39.0 in /usr/local/lib/python3.10/dist-packages (from asyncssh<3,>=2.13.1->scmrepo<2,>=1.2.1->dvc) (41.0.5)\n",
            "Requirement already satisfied: typing-extensions>=3.6 in /usr/local/lib/python3.10/dist-packages (from asyncssh<3,>=2.13.1->scmrepo<2,>=1.2.1->dvc) (4.5.0)\n",
            "Requirement already satisfied: billiard<5.0,>=4.1.0 in /usr/local/lib/python3.10/dist-packages (from celery<6,>=5.3.0->dvc-task<1,>=0.3.0->dvc) (4.1.0)\n",
            "Requirement already satisfied: vine<6.0,>=5.0.0 in /usr/local/lib/python3.10/dist-packages (from celery<6,>=5.3.0->dvc-task<1,>=0.3.0->dvc) (5.0.0)\n",
            "Requirement already satisfied: click<9.0,>=8.1.2 in /usr/local/lib/python3.10/dist-packages (from celery<6,>=5.3.0->dvc-task<1,>=0.3.0->dvc) (8.1.7)\n",
            "Requirement already satisfied: click-didyoumean>=0.3.0 in /usr/local/lib/python3.10/dist-packages (from celery<6,>=5.3.0->dvc-task<1,>=0.3.0->dvc) (0.3.0)\n",
            "Requirement already satisfied: click-repl>=0.2.0 in /usr/local/lib/python3.10/dist-packages (from celery<6,>=5.3.0->dvc-task<1,>=0.3.0->dvc) (0.3.0)\n",
            "Requirement already satisfied: click-plugins>=1.1.1 in /usr/local/lib/python3.10/dist-packages (from celery<6,>=5.3.0->dvc-task<1,>=0.3.0->dvc) (1.1.1)\n",
            "Requirement already satisfied: tzdata>=2022.7 in /usr/local/lib/python3.10/dist-packages (from celery<6,>=5.3.0->dvc-task<1,>=0.3.0->dvc) (2023.3)\n",
            "Requirement already satisfied: python-dateutil>=2.8.2 in /usr/local/lib/python3.10/dist-packages (from celery<6,>=5.3.0->dvc-task<1,>=0.3.0->dvc) (2.8.2)\n",
            "Requirement already satisfied: gitdb<5,>=4.0.1 in /usr/local/lib/python3.10/dist-packages (from gitpython>3->scmrepo<2,>=1.2.1->dvc) (4.0.11)\n",
            "Requirement already satisfied: amqp<6.0.0,>=5.1.1 in /usr/local/lib/python3.10/dist-packages (from kombu<6,>=5.3.0->dvc-task<1,>=0.3.0->dvc) (5.1.1)\n",
            "Requirement already satisfied: mdurl~=0.1 in /usr/local/lib/python3.10/dist-packages (from markdown-it-py>=2.2.0->rich>=12->dvc) (0.1.2)\n",
            "Requirement already satisfied: PyYAML>=5.1.0 in /usr/local/lib/python3.10/dist-packages (from omegaconf<2.4,>=2.2->hydra-core>=1.1->dvc) (6.0.1)\n",
            "Requirement already satisfied: cffi>=1.16.0 in /usr/local/lib/python3.10/dist-packages (from pygit2>=1.13.0->scmrepo<2,>=1.2.1->dvc) (1.16.0)\n",
            "Requirement already satisfied: orjson in /usr/local/lib/python3.10/dist-packages (from sqltrie<1,>=0.8.0->dvc-data<2.21.0,>=2.20.0->dvc) (3.9.10)\n",
            "Requirement already satisfied: multidict<7.0,>=4.5 in /usr/local/lib/python3.10/dist-packages (from aiohttp->aiohttp-retry>=2.5.0->dvc-http>=2.29.0->dvc) (6.0.4)\n",
            "Requirement already satisfied: async-timeout<5.0,>=4.0.0a3 in /usr/local/lib/python3.10/dist-packages (from aiohttp->aiohttp-retry>=2.5.0->dvc-http>=2.29.0->dvc) (4.0.3)\n",
            "Requirement already satisfied: yarl<2.0,>=1.0 in /usr/local/lib/python3.10/dist-packages (from aiohttp->aiohttp-retry>=2.5.0->dvc-http>=2.29.0->dvc) (1.9.2)\n",
            "Requirement already satisfied: frozenlist>=1.1.1 in /usr/local/lib/python3.10/dist-packages (from aiohttp->aiohttp-retry>=2.5.0->dvc-http>=2.29.0->dvc) (1.4.0)\n",
            "Requirement already satisfied: aiosignal>=1.1.2 in /usr/local/lib/python3.10/dist-packages (from aiohttp->aiohttp-retry>=2.5.0->dvc-http>=2.29.0->dvc) (1.3.1)\n",
            "Requirement already satisfied: pycparser in /usr/local/lib/python3.10/dist-packages (from cffi>=1.16.0->pygit2>=1.13.0->scmrepo<2,>=1.2.1->dvc) (2.21)\n",
            "Requirement already satisfied: prompt-toolkit>=3.0.36 in /usr/local/lib/python3.10/dist-packages (from click-repl>=0.2.0->celery<6,>=5.3.0->dvc-task<1,>=0.3.0->dvc) (3.0.39)\n",
            "Requirement already satisfied: smmap<6,>=3.0.1 in /usr/local/lib/python3.10/dist-packages (from gitdb<5,>=4.0.1->gitpython>3->scmrepo<2,>=1.2.1->dvc) (5.0.1)\n",
            "Requirement already satisfied: wcwidth in /usr/local/lib/python3.10/dist-packages (from prompt-toolkit>=3.0.36->click-repl>=0.2.0->celery<6,>=5.3.0->dvc-task<1,>=0.3.0->dvc) (0.2.8)\n",
            "Collecting dvc-s3\n",
            "  Downloading dvc_s3-2.23.0-py3-none-any.whl (12 kB)\n",
            "Requirement already satisfied: dvc in /usr/local/lib/python3.10/dist-packages (from dvc-s3) (3.28.0)\n",
            "Collecting s3fs>=2023.6.0 (from dvc-s3)\n",
            "  Downloading s3fs-2023.10.0-py3-none-any.whl (28 kB)\n",
            "Collecting aiobotocore[boto3]>=2.5.0 (from dvc-s3)\n",
            "  Downloading aiobotocore-2.7.0-py3-none-any.whl (73 kB)\n",
            "\u001b[2K     \u001b[90m━━━━━━━━━━━━━━━━━━━━━━━━━━━━━━━━━━━━━━━━\u001b[0m \u001b[32m73.5/73.5 kB\u001b[0m \u001b[31m4.5 MB/s\u001b[0m eta \u001b[36m0:00:00\u001b[0m\n",
            "\u001b[?25hRequirement already satisfied: flatten-dict<1,>=0.4.1 in /usr/local/lib/python3.10/dist-packages (from dvc-s3) (0.4.2)\n",
            "Collecting botocore<1.31.65,>=1.31.16 (from aiobotocore[boto3]>=2.5.0->dvc-s3)\n",
            "  Downloading botocore-1.31.64-py3-none-any.whl (11.3 MB)\n",
            "\u001b[2K     \u001b[90m━━━━━━━━━━━━━━━━━━━━━━━━━━━━━━━━━━━━━━━━\u001b[0m \u001b[32m11.3/11.3 MB\u001b[0m \u001b[31m53.9 MB/s\u001b[0m eta \u001b[36m0:00:00\u001b[0m\n",
            "\u001b[?25hRequirement already satisfied: aiohttp<4.0.0,>=3.7.4.post0 in /usr/local/lib/python3.10/dist-packages (from aiobotocore[boto3]>=2.5.0->dvc-s3) (3.8.6)\n",
            "Requirement already satisfied: wrapt<2.0.0,>=1.10.10 in /usr/local/lib/python3.10/dist-packages (from aiobotocore[boto3]>=2.5.0->dvc-s3) (1.14.1)\n",
            "Collecting aioitertools<1.0.0,>=0.5.1 (from aiobotocore[boto3]>=2.5.0->dvc-s3)\n",
            "  Downloading aioitertools-0.11.0-py3-none-any.whl (23 kB)\n",
            "Collecting boto3<1.28.65,>=1.28.16 (from aiobotocore[boto3]>=2.5.0->dvc-s3)\n",
            "  Downloading boto3-1.28.64-py3-none-any.whl (135 kB)\n",
            "\u001b[2K     \u001b[90m━━━━━━━━━━━━━━━━━━━━━━━━━━━━━━━━━━━━━━━━\u001b[0m \u001b[32m135.8/135.8 kB\u001b[0m \u001b[31m13.6 MB/s\u001b[0m eta \u001b[36m0:00:00\u001b[0m\n",
            "\u001b[?25hRequirement already satisfied: six<2.0,>=1.12 in /usr/local/lib/python3.10/dist-packages (from flatten-dict<1,>=0.4.1->dvc-s3) (1.16.0)\n",
            "Collecting fsspec==2023.10.0 (from s3fs>=2023.6.0->dvc-s3)\n",
            "  Downloading fsspec-2023.10.0-py3-none-any.whl (166 kB)\n",
            "\u001b[2K     \u001b[90m━━━━━━━━━━━━━━━━━━━━━━━━━━━━━━━━━━━━━━━━\u001b[0m \u001b[32m166.4/166.4 kB\u001b[0m \u001b[31m15.5 MB/s\u001b[0m eta \u001b[36m0:00:00\u001b[0m\n",
            "\u001b[?25hRequirement already satisfied: colorama>=0.3.9 in /usr/local/lib/python3.10/dist-packages (from dvc->dvc-s3) (0.4.6)\n",
            "Requirement already satisfied: configobj>=5.0.6 in /usr/local/lib/python3.10/dist-packages (from dvc->dvc-s3) (5.0.8)\n",
            "Requirement already satisfied: distro>=1.3 in /usr/lib/python3/dist-packages (from dvc->dvc-s3) (1.7.0)\n",
            "Requirement already satisfied: dpath<3,>=2.1.0 in /usr/local/lib/python3.10/dist-packages (from dvc->dvc-s3) (2.1.6)\n",
            "Requirement already satisfied: dvc-data<2.21.0,>=2.20.0 in /usr/local/lib/python3.10/dist-packages (from dvc->dvc-s3) (2.20.0)\n",
            "Requirement already satisfied: dvc-http>=2.29.0 in /usr/local/lib/python3.10/dist-packages (from dvc->dvc-s3) (2.30.2)\n",
            "Requirement already satisfied: dvc-render<1,>=0.3.1 in /usr/local/lib/python3.10/dist-packages (from dvc->dvc-s3) (0.6.0)\n",
            "Requirement already satisfied: dvc-studio-client<1,>=0.13.0 in /usr/local/lib/python3.10/dist-packages (from dvc->dvc-s3) (0.15.0)\n",
            "Requirement already satisfied: dvc-task<1,>=0.3.0 in /usr/local/lib/python3.10/dist-packages (from dvc->dvc-s3) (0.3.0)\n",
            "Requirement already satisfied: flufl.lock<8,>=5 in /usr/local/lib/python3.10/dist-packages (from dvc->dvc-s3) (7.1.1)\n",
            "Requirement already satisfied: funcy>=1.14 in /usr/local/lib/python3.10/dist-packages (from dvc->dvc-s3) (2.0)\n",
            "Requirement already satisfied: grandalf<1,>=0.7 in /usr/local/lib/python3.10/dist-packages (from dvc->dvc-s3) (0.8)\n",
            "Requirement already satisfied: gto<2,>=1.4.0 in /usr/local/lib/python3.10/dist-packages (from dvc->dvc-s3) (1.5.0)\n",
            "Requirement already satisfied: hydra-core>=1.1 in /usr/local/lib/python3.10/dist-packages (from dvc->dvc-s3) (1.3.2)\n",
            "Requirement already satisfied: iterative-telemetry>=0.0.7 in /usr/local/lib/python3.10/dist-packages (from dvc->dvc-s3) (0.0.8)\n",
            "Requirement already satisfied: networkx>=2.5 in /usr/local/lib/python3.10/dist-packages (from dvc->dvc-s3) (3.2)\n",
            "Requirement already satisfied: packaging>=19 in /usr/local/lib/python3.10/dist-packages (from dvc->dvc-s3) (23.2)\n",
            "Requirement already satisfied: pathspec>=0.10.3 in /usr/local/lib/python3.10/dist-packages (from dvc->dvc-s3) (0.11.2)\n",
            "Requirement already satisfied: platformdirs<4,>=3.1.1 in /usr/local/lib/python3.10/dist-packages (from dvc->dvc-s3) (3.11.0)\n",
            "Requirement already satisfied: psutil>=5.8 in /usr/local/lib/python3.10/dist-packages (from dvc->dvc-s3) (5.9.5)\n",
            "Requirement already satisfied: pydot>=1.2.4 in /usr/local/lib/python3.10/dist-packages (from dvc->dvc-s3) (1.4.2)\n",
            "Requirement already satisfied: pygtrie>=2.3.2 in /usr/local/lib/python3.10/dist-packages (from dvc->dvc-s3) (2.5.0)\n",
            "Requirement already satisfied: pyparsing>=2.4.7 in /usr/local/lib/python3.10/dist-packages (from dvc->dvc-s3) (3.1.1)\n",
            "Requirement already satisfied: requests>=2.22 in /usr/local/lib/python3.10/dist-packages (from dvc->dvc-s3) (2.31.0)\n",
            "Requirement already satisfied: rich>=12 in /usr/local/lib/python3.10/dist-packages (from dvc->dvc-s3) (13.6.0)\n",
            "Requirement already satisfied: ruamel.yaml>=0.17.11 in /usr/local/lib/python3.10/dist-packages (from dvc->dvc-s3) (0.18.4)\n",
            "Requirement already satisfied: scmrepo<2,>=1.2.1 in /usr/local/lib/python3.10/dist-packages (from dvc->dvc-s3) (1.4.1)\n",
            "Requirement already satisfied: shortuuid>=0.5 in /usr/local/lib/python3.10/dist-packages (from dvc->dvc-s3) (1.0.11)\n",
            "Requirement already satisfied: shtab<2,>=1.3.4 in /usr/local/lib/python3.10/dist-packages (from dvc->dvc-s3) (1.6.4)\n",
            "Requirement already satisfied: tabulate>=0.8.7 in /usr/local/lib/python3.10/dist-packages (from dvc->dvc-s3) (0.9.0)\n",
            "Requirement already satisfied: tomlkit>=0.11.1 in /usr/local/lib/python3.10/dist-packages (from dvc->dvc-s3) (0.12.1)\n",
            "Requirement already satisfied: tqdm<5,>=4.63.1 in /usr/local/lib/python3.10/dist-packages (from dvc->dvc-s3) (4.66.1)\n",
            "Requirement already satisfied: voluptuous>=0.11.7 in /usr/local/lib/python3.10/dist-packages (from dvc->dvc-s3) (0.13.1)\n",
            "Requirement already satisfied: zc.lockfile>=1.2.1 in /usr/local/lib/python3.10/dist-packages (from dvc->dvc-s3) (3.0.post1)\n",
            "Requirement already satisfied: attrs>=17.3.0 in /usr/local/lib/python3.10/dist-packages (from aiohttp<4.0.0,>=3.7.4.post0->aiobotocore[boto3]>=2.5.0->dvc-s3) (23.1.0)\n",
            "Requirement already satisfied: charset-normalizer<4.0,>=2.0 in /usr/local/lib/python3.10/dist-packages (from aiohttp<4.0.0,>=3.7.4.post0->aiobotocore[boto3]>=2.5.0->dvc-s3) (3.3.1)\n",
            "Requirement already satisfied: multidict<7.0,>=4.5 in /usr/local/lib/python3.10/dist-packages (from aiohttp<4.0.0,>=3.7.4.post0->aiobotocore[boto3]>=2.5.0->dvc-s3) (6.0.4)\n",
            "Requirement already satisfied: async-timeout<5.0,>=4.0.0a3 in /usr/local/lib/python3.10/dist-packages (from aiohttp<4.0.0,>=3.7.4.post0->aiobotocore[boto3]>=2.5.0->dvc-s3) (4.0.3)\n",
            "Requirement already satisfied: yarl<2.0,>=1.0 in /usr/local/lib/python3.10/dist-packages (from aiohttp<4.0.0,>=3.7.4.post0->aiobotocore[boto3]>=2.5.0->dvc-s3) (1.9.2)\n",
            "Requirement already satisfied: frozenlist>=1.1.1 in /usr/local/lib/python3.10/dist-packages (from aiohttp<4.0.0,>=3.7.4.post0->aiobotocore[boto3]>=2.5.0->dvc-s3) (1.4.0)\n",
            "Requirement already satisfied: aiosignal>=1.1.2 in /usr/local/lib/python3.10/dist-packages (from aiohttp<4.0.0,>=3.7.4.post0->aiobotocore[boto3]>=2.5.0->dvc-s3) (1.3.1)\n",
            "Collecting jmespath<2.0.0,>=0.7.1 (from boto3<1.28.65,>=1.28.16->aiobotocore[boto3]>=2.5.0->dvc-s3)\n",
            "  Downloading jmespath-1.0.1-py3-none-any.whl (20 kB)\n",
            "Collecting s3transfer<0.8.0,>=0.7.0 (from boto3<1.28.65,>=1.28.16->aiobotocore[boto3]>=2.5.0->dvc-s3)\n",
            "  Downloading s3transfer-0.7.0-py3-none-any.whl (79 kB)\n",
            "\u001b[2K     \u001b[90m━━━━━━━━━━━━━━━━━━━━━━━━━━━━━━━━━━━━━━━━\u001b[0m \u001b[32m79.8/79.8 kB\u001b[0m \u001b[31m827.5 kB/s\u001b[0m eta \u001b[36m0:00:00\u001b[0m\n",
            "\u001b[?25hRequirement already satisfied: python-dateutil<3.0.0,>=2.1 in /usr/local/lib/python3.10/dist-packages (from botocore<1.31.65,>=1.31.16->aiobotocore[boto3]>=2.5.0->dvc-s3) (2.8.2)\n",
            "Requirement already satisfied: urllib3<2.1,>=1.25.4 in /usr/local/lib/python3.10/dist-packages (from botocore<1.31.65,>=1.31.16->aiobotocore[boto3]>=2.5.0->dvc-s3) (2.0.7)\n",
            "Requirement already satisfied: dictdiffer>=0.8.1 in /usr/local/lib/python3.10/dist-packages (from dvc-data<2.21.0,>=2.20.0->dvc->dvc-s3) (0.9.0)\n",
            "Requirement already satisfied: dvc-objects<2,>=1.1.0 in /usr/local/lib/python3.10/dist-packages (from dvc-data<2.21.0,>=2.20.0->dvc->dvc-s3) (1.1.0)\n",
            "Requirement already satisfied: diskcache>=5.2.1 in /usr/local/lib/python3.10/dist-packages (from dvc-data<2.21.0,>=2.20.0->dvc->dvc-s3) (5.6.3)\n",
            "Requirement already satisfied: sqltrie<1,>=0.8.0 in /usr/local/lib/python3.10/dist-packages (from dvc-data<2.21.0,>=2.20.0->dvc->dvc-s3) (0.8.0)\n",
            "Requirement already satisfied: fsspec[http] in /usr/local/lib/python3.10/dist-packages (from dvc-http>=2.29.0->dvc->dvc-s3) (2023.6.0)\n",
            "Requirement already satisfied: aiohttp-retry>=2.5.0 in /usr/local/lib/python3.10/dist-packages (from dvc-http>=2.29.0->dvc->dvc-s3) (2.8.3)\n",
            "Requirement already satisfied: dulwich in /usr/local/lib/python3.10/dist-packages (from dvc-studio-client<1,>=0.13.0->dvc->dvc-s3) (0.21.6)\n",
            "Requirement already satisfied: celery<6,>=5.3.0 in /usr/local/lib/python3.10/dist-packages (from dvc-task<1,>=0.3.0->dvc->dvc-s3) (5.3.4)\n",
            "Requirement already satisfied: kombu<6,>=5.3.0 in /usr/local/lib/python3.10/dist-packages (from dvc-task<1,>=0.3.0->dvc->dvc-s3) (5.3.2)\n",
            "Requirement already satisfied: atpublic>=2.3 in /usr/local/lib/python3.10/dist-packages (from flufl.lock<8,>=5->dvc->dvc-s3) (4.0)\n",
            "Requirement already satisfied: typer>=0.4.1 in /usr/local/lib/python3.10/dist-packages (from gto<2,>=1.4.0->dvc->dvc-s3) (0.9.0)\n",
            "Requirement already satisfied: pydantic!=2.0.0,<3,>=1.9.0 in /usr/local/lib/python3.10/dist-packages (from gto<2,>=1.4.0->dvc->dvc-s3) (1.10.13)\n",
            "Requirement already satisfied: semver>=3.0.0 in /usr/local/lib/python3.10/dist-packages (from gto<2,>=1.4.0->dvc->dvc-s3) (3.0.2)\n",
            "Requirement already satisfied: entrypoints in /usr/local/lib/python3.10/dist-packages (from gto<2,>=1.4.0->dvc->dvc-s3) (0.4)\n",
            "Requirement already satisfied: omegaconf<2.4,>=2.2 in /usr/local/lib/python3.10/dist-packages (from hydra-core>=1.1->dvc->dvc-s3) (2.3.0)\n",
            "Requirement already satisfied: antlr4-python3-runtime==4.9.* in /usr/local/lib/python3.10/dist-packages (from hydra-core>=1.1->dvc->dvc-s3) (4.9.3)\n",
            "Requirement already satisfied: appdirs in /usr/local/lib/python3.10/dist-packages (from iterative-telemetry>=0.0.7->dvc->dvc-s3) (1.4.4)\n",
            "Requirement already satisfied: filelock in /usr/local/lib/python3.10/dist-packages (from iterative-telemetry>=0.0.7->dvc->dvc-s3) (3.12.4)\n",
            "Requirement already satisfied: idna<4,>=2.5 in /usr/local/lib/python3.10/dist-packages (from requests>=2.22->dvc->dvc-s3) (3.4)\n",
            "Requirement already satisfied: certifi>=2017.4.17 in /usr/local/lib/python3.10/dist-packages (from requests>=2.22->dvc->dvc-s3) (2023.7.22)\n",
            "Requirement already satisfied: markdown-it-py>=2.2.0 in /usr/local/lib/python3.10/dist-packages (from rich>=12->dvc->dvc-s3) (3.0.0)\n",
            "Requirement already satisfied: pygments<3.0.0,>=2.13.0 in /usr/local/lib/python3.10/dist-packages (from rich>=12->dvc->dvc-s3) (2.16.1)\n",
            "Requirement already satisfied: ruamel.yaml.clib>=0.2.7 in /usr/local/lib/python3.10/dist-packages (from ruamel.yaml>=0.17.11->dvc->dvc-s3) (0.2.8)\n",
            "Requirement already satisfied: gitpython>3 in /usr/local/lib/python3.10/dist-packages (from scmrepo<2,>=1.2.1->dvc->dvc-s3) (3.1.40)\n",
            "Requirement already satisfied: pygit2>=1.13.0 in /usr/local/lib/python3.10/dist-packages (from scmrepo<2,>=1.2.1->dvc->dvc-s3) (1.13.2)\n",
            "Requirement already satisfied: asyncssh<3,>=2.13.1 in /usr/local/lib/python3.10/dist-packages (from scmrepo<2,>=1.2.1->dvc->dvc-s3) (2.14.0)\n",
            "Requirement already satisfied: setuptools in /usr/local/lib/python3.10/dist-packages (from zc.lockfile>=1.2.1->dvc->dvc-s3) (67.7.2)\n",
            "Requirement already satisfied: cryptography>=39.0 in /usr/local/lib/python3.10/dist-packages (from asyncssh<3,>=2.13.1->scmrepo<2,>=1.2.1->dvc->dvc-s3) (41.0.5)\n",
            "Requirement already satisfied: typing-extensions>=3.6 in /usr/local/lib/python3.10/dist-packages (from asyncssh<3,>=2.13.1->scmrepo<2,>=1.2.1->dvc->dvc-s3) (4.5.0)\n",
            "Requirement already satisfied: billiard<5.0,>=4.1.0 in /usr/local/lib/python3.10/dist-packages (from celery<6,>=5.3.0->dvc-task<1,>=0.3.0->dvc->dvc-s3) (4.1.0)\n",
            "Requirement already satisfied: vine<6.0,>=5.0.0 in /usr/local/lib/python3.10/dist-packages (from celery<6,>=5.3.0->dvc-task<1,>=0.3.0->dvc->dvc-s3) (5.0.0)\n",
            "Requirement already satisfied: click<9.0,>=8.1.2 in /usr/local/lib/python3.10/dist-packages (from celery<6,>=5.3.0->dvc-task<1,>=0.3.0->dvc->dvc-s3) (8.1.7)\n",
            "Requirement already satisfied: click-didyoumean>=0.3.0 in /usr/local/lib/python3.10/dist-packages (from celery<6,>=5.3.0->dvc-task<1,>=0.3.0->dvc->dvc-s3) (0.3.0)\n",
            "Requirement already satisfied: click-repl>=0.2.0 in /usr/local/lib/python3.10/dist-packages (from celery<6,>=5.3.0->dvc-task<1,>=0.3.0->dvc->dvc-s3) (0.3.0)\n",
            "Requirement already satisfied: click-plugins>=1.1.1 in /usr/local/lib/python3.10/dist-packages (from celery<6,>=5.3.0->dvc-task<1,>=0.3.0->dvc->dvc-s3) (1.1.1)\n",
            "Requirement already satisfied: tzdata>=2022.7 in /usr/local/lib/python3.10/dist-packages (from celery<6,>=5.3.0->dvc-task<1,>=0.3.0->dvc->dvc-s3) (2023.3)\n",
            "Requirement already satisfied: gitdb<5,>=4.0.1 in /usr/local/lib/python3.10/dist-packages (from gitpython>3->scmrepo<2,>=1.2.1->dvc->dvc-s3) (4.0.11)\n",
            "Requirement already satisfied: amqp<6.0.0,>=5.1.1 in /usr/local/lib/python3.10/dist-packages (from kombu<6,>=5.3.0->dvc-task<1,>=0.3.0->dvc->dvc-s3) (5.1.1)\n",
            "Requirement already satisfied: mdurl~=0.1 in /usr/local/lib/python3.10/dist-packages (from markdown-it-py>=2.2.0->rich>=12->dvc->dvc-s3) (0.1.2)\n",
            "Requirement already satisfied: PyYAML>=5.1.0 in /usr/local/lib/python3.10/dist-packages (from omegaconf<2.4,>=2.2->hydra-core>=1.1->dvc->dvc-s3) (6.0.1)\n",
            "Requirement already satisfied: cffi>=1.16.0 in /usr/local/lib/python3.10/dist-packages (from pygit2>=1.13.0->scmrepo<2,>=1.2.1->dvc->dvc-s3) (1.16.0)\n",
            "Requirement already satisfied: orjson in /usr/local/lib/python3.10/dist-packages (from sqltrie<1,>=0.8.0->dvc-data<2.21.0,>=2.20.0->dvc->dvc-s3) (3.9.10)\n",
            "INFO: pip is looking at multiple versions of fsspec[http] to determine which version is compatible with other requirements. This could take a while.\n",
            "Requirement already satisfied: pycparser in /usr/local/lib/python3.10/dist-packages (from cffi>=1.16.0->pygit2>=1.13.0->scmrepo<2,>=1.2.1->dvc->dvc-s3) (2.21)\n",
            "Requirement already satisfied: prompt-toolkit>=3.0.36 in /usr/local/lib/python3.10/dist-packages (from click-repl>=0.2.0->celery<6,>=5.3.0->dvc-task<1,>=0.3.0->dvc->dvc-s3) (3.0.39)\n",
            "Requirement already satisfied: smmap<6,>=3.0.1 in /usr/local/lib/python3.10/dist-packages (from gitdb<5,>=4.0.1->gitpython>3->scmrepo<2,>=1.2.1->dvc->dvc-s3) (5.0.1)\n",
            "Requirement already satisfied: wcwidth in /usr/local/lib/python3.10/dist-packages (from prompt-toolkit>=3.0.36->click-repl>=0.2.0->celery<6,>=5.3.0->dvc-task<1,>=0.3.0->dvc->dvc-s3) (0.2.8)\n",
            "Installing collected packages: jmespath, fsspec, aioitertools, botocore, s3transfer, aiobotocore, s3fs, boto3, dvc-s3\n",
            "  Attempting uninstall: fsspec\n",
            "    Found existing installation: fsspec 2023.6.0\n",
            "    Uninstalling fsspec-2023.6.0:\n",
            "      Successfully uninstalled fsspec-2023.6.0\n",
            "\u001b[31mERROR: pip's dependency resolver does not currently take into account all the packages that are installed. This behaviour is the source of the following dependency conflicts.\n",
            "gcsfs 2023.6.0 requires fsspec==2023.6.0, but you have fsspec 2023.10.0 which is incompatible.\u001b[0m\u001b[31m\n",
            "\u001b[0mSuccessfully installed aiobotocore-2.7.0 aioitertools-0.11.0 boto3-1.28.64 botocore-1.31.64 dvc-s3-2.23.0 fsspec-2023.10.0 jmespath-1.0.1 s3fs-2023.10.0 s3transfer-0.7.0\n"
          ]
        }
      ],
      "source": [
        "import sys\n",
        "import os\n",
        "\n",
        "running_in_colab = 'google.colab' in str(get_ipython())\n",
        "if running_in_colab:\n",
        "    print('You are running this on COLAB so installing the environment here')\n",
        "    # TODO! Colab by default uses Python 3.10 so force the 3.8.17 here?\n",
        "    os.chdir(\"/content\")\n",
        "    !git clone https://github.com/petteriTeikari/minivess_mlops.git\n",
        "    !pip install poetry\n",
        "    os.chdir(\"/content/minivess_mlops\")\n",
        "    !poetry config virtualenvs.in-project true\n",
        "    # Running \"!poetry install --no-ansi\" is needed or not?\n",
        "    !poetry install\n",
        "    #!poetry shell\n",
        "    # https://stackoverflow.com/a/65440080/6412152\n",
        "    !pip install dvc\n",
        "    !pip install dvc-s3\n",
        "else:\n",
        "    print('Assuming that you are runnign this from IDE,\\n'\n",
        "          'or some other environment where you have your Jupyter kernel created from Poetry files')"
      ],
      "metadata": {
        "id": "23525ddc876b758d",
        "ExecuteTime": {
          "end_time": "2023-10-25T14:31:35.277891306Z",
          "start_time": "2023-10-25T14:31:35.274960356Z"
        },
        "outputId": "ea1c969d-d1f1-4378-f1c1-a46677c1eeb3",
        "colab": {
          "base_uri": "https://localhost:8080/"
        }
      },
      "id": "23525ddc876b758d"
    },
    {
      "cell_type": "markdown",
      "source": [
        "Debugger for Colab, https://zohaib.me/debugging-in-google-collab-notebook/"
      ],
      "metadata": {
        "id": "QO_5LoP8Pcrp"
      },
      "id": "QO_5LoP8Pcrp"
    },
    {
      "cell_type": "code",
      "source": [
        "!pip install -Uqq ipdb\n",
        "import ipdb\n",
        "%pdb on"
      ],
      "metadata": {
        "id": "hESGD-MIPcck",
        "outputId": "08c10297-71c9-4f4b-ce58-d03a5a4e5430",
        "colab": {
          "base_uri": "https://localhost:8080/"
        }
      },
      "id": "hESGD-MIPcck",
      "execution_count": 2,
      "outputs": [
        {
          "output_type": "stream",
          "name": "stdout",
          "text": [
            "Automatic pdb calling has been turned ON\n"
          ]
        }
      ]
    },
    {
      "cell_type": "markdown",
      "source": [
        "Import the other modules now available from Poetry environment and from the Github repo (see [in_Google_Colab.ipynb](https://github.com/elise-chin/poetry-and-colab/blob/main/Using_python_poetry_in_Google_Colab.ipynb))"
      ],
      "metadata": {
        "collapsed": false,
        "id": "8986f81887cf72c4"
      },
      "id": "8986f81887cf72c4"
    },
    {
      "cell_type": "code",
      "source": [
        "!poetry show -v # /content/minivess_mlops/.venv"
      ],
      "metadata": {
        "id": "kuyBmlId3cLq",
        "outputId": "779c58db-62cb-420d-8e93-224f8cbe9fa4",
        "colab": {
          "base_uri": "https://localhost:8080/"
        }
      },
      "id": "kuyBmlId3cLq",
      "execution_count": 3,
      "outputs": [
        {
          "output_type": "stream",
          "name": "stdout",
          "text": [
            "Using virtualenv: \u001b[32m/content/minivess_mlops/.venv\u001b[39m\n",
            "\u001b[36mabsl-py                 \u001b[39m \u001b[39;1m1.4.0       \u001b[39;22m Abseil Python Common Libraries, see https://github.com/ab...\n",
            "\u001b[36maiobotocore             \u001b[39m \u001b[39;1m2.7.0       \u001b[39;22m Async client for aws services using botocore and aiohttp\n",
            "\u001b[36maiohttp                 \u001b[39m \u001b[39;1m3.8.6       \u001b[39;22m Async http client/server framework (asyncio)\n",
            "\u001b[36maiohttp-retry           \u001b[39m \u001b[39;1m2.8.3       \u001b[39;22m Simple retry client for aiohttp\n",
            "\u001b[36maioitertools            \u001b[39m \u001b[39;1m0.11.0      \u001b[39;22m itertools and builtins for AsyncIO and mixed iterables\n",
            "\u001b[36maiosignal               \u001b[39m \u001b[39;1m1.3.1       \u001b[39;22m aiosignal: a list of registered asynchronous callbacks\n",
            "\u001b[36malembic                 \u001b[39m \u001b[39;1m1.12.0      \u001b[39;22m A database migration tool for SQLAlchemy.\n",
            "\u001b[36mamqp                    \u001b[39m \u001b[39;1m5.1.1       \u001b[39;22m Low-level AMQP client for Python (fork of amqplib).\n",
            "\u001b[36mannotated-types         \u001b[39m \u001b[39;1m0.6.0       \u001b[39;22m Reusable constraint types to use with typing.Annotated\n",
            "\u001b[36mantlr4-python3-runtime  \u001b[39m \u001b[39;1m4.9.3       \u001b[39;22m ANTLR 4.9.3 runtime for Python 3.7\n",
            "\u001b[36mappdirs                 \u001b[39m \u001b[39;1m1.4.4       \u001b[39;22m A small Python module for determining appropriate platfor...\n",
            "\u001b[36masync-timeout           \u001b[39m \u001b[39;1m4.0.3       \u001b[39;22m Timeout context manager for asyncio programs\n",
            "\u001b[36masyncssh                \u001b[39m \u001b[39;1m2.14.0      \u001b[39;22m AsyncSSH: Asynchronous SSHv2 client and server library\n",
            "\u001b[36matpublic                \u001b[39m \u001b[39;1m4.0         \u001b[39;22m Keep all y'all's __all__'s in sync\n",
            "\u001b[36mattrs                   \u001b[39m \u001b[39;1m23.1.0      \u001b[39;22m Classes Without Boilerplate\n",
            "\u001b[36mbeautifulsoup4          \u001b[39m \u001b[39;1m4.12.2      \u001b[39;22m Screen-scraping library\n",
            "\u001b[36mbilliard                \u001b[39m \u001b[39;1m4.1.0       \u001b[39;22m Python multiprocessing fork with improvements and bugfixes\n",
            "\u001b[36mblinker                 \u001b[39m \u001b[39;1m1.6.2       \u001b[39;22m Fast, simple object-to-object and broadcast signaling\n",
            "\u001b[36mboto3                   \u001b[39m \u001b[39;1m1.28.64     \u001b[39;22m The AWS SDK for Python\n",
            "\u001b[36mbotocore                \u001b[39m \u001b[39;1m1.31.64     \u001b[39;22m Low-level, data-driven core of boto 3.\n",
            "\u001b[36mcachetools              \u001b[39m \u001b[39;1m5.3.1       \u001b[39;22m Extensible memoizing collections and decorators\n",
            "\u001b[36mcelery                  \u001b[39m \u001b[39;1m5.3.4       \u001b[39;22m Distributed Task Queue.\n",
            "\u001b[36mcertifi                 \u001b[39m \u001b[39;1m2023.7.22   \u001b[39;22m Python package for providing Mozilla's CA Bundle.\n",
            "\u001b[36mcffi                    \u001b[39m \u001b[39;1m1.16.0      \u001b[39;22m Foreign Function Interface for Python calling C code.\n",
            "\u001b[36mcharset-normalizer      \u001b[39m \u001b[39;1m3.2.0       \u001b[39;22m The Real First Universal Charset Detector. Open, modern a...\n",
            "\u001b[36mclick                   \u001b[39m \u001b[39;1m8.1.7       \u001b[39;22m Composable command line interface toolkit\n",
            "\u001b[36mclick-didyoumean        \u001b[39m \u001b[39;1m0.3.0       \u001b[39;22m Enables git-like *did-you-mean* feature in click\n",
            "\u001b[36mclick-plugins           \u001b[39m \u001b[39;1m1.1.1       \u001b[39;22m An extension module for click to enable registering CLI c...\n",
            "\u001b[36mclick-repl              \u001b[39m \u001b[39;1m0.3.0       \u001b[39;22m REPL plugin for Click\n",
            "\u001b[36mcloudpickle             \u001b[39m \u001b[39;1m2.2.1       \u001b[39;22m Extended pickling support for Python objects\n",
            "\u001b[36mcmake                   \u001b[39m \u001b[39;1m3.27.2      \u001b[39;22m CMake is an open-source, cross-platform family of tools d...\n",
            "\u001b[36mcolorama                \u001b[39m \u001b[39;1m0.4.6       \u001b[39;22m Cross-platform colored terminal text.\n",
            "\u001b[36mconfigobj               \u001b[39m \u001b[39;1m5.0.8       \u001b[39;22m Config file reading, writing and validation.\n",
            "\u001b[36mcontourpy               \u001b[39m \u001b[39;1m1.1.0       \u001b[39;22m Python library for calculating contours of 2D quadrilater...\n",
            "\u001b[36mcryptography            \u001b[39m \u001b[39;1m41.0.5      \u001b[39;22m cryptography is a package which provides cryptographic re...\n",
            "\u001b[36mcycler                  \u001b[39m \u001b[39;1m0.11.0      \u001b[39;22m Composable style cycles\n",
            "\u001b[36mdatabricks-cli          \u001b[39m \u001b[39;1m0.17.6      \u001b[39;22m A command line interface for Databricks\n",
            "\u001b[36mdictdiffer              \u001b[39m \u001b[39;1m0.9.0       \u001b[39;22m Dictdiffer is a library that helps you to diff and patch ...\n",
            "\u001b[36mdiskcache               \u001b[39m \u001b[39;1m5.6.3       \u001b[39;22m Disk Cache -- Disk and file backed persistent cache.\n",
            "\u001b[36mdistro                  \u001b[39m \u001b[39;1m1.8.0       \u001b[39;22m Distro - an OS platform information API\n",
            "\u001b[36mdocker                  \u001b[39m \u001b[39;1m6.1.3       \u001b[39;22m A Python library for the Docker Engine API.\n",
            "\u001b[36mdocker-pycreds          \u001b[39m \u001b[39;1m0.4.0       \u001b[39;22m Python bindings for the docker credentials store API\n",
            "\u001b[36mdpath                   \u001b[39m \u001b[39;1m2.1.6       \u001b[39;22m Filesystem-like pathing and searching for dictionaries\n",
            "\u001b[36mdulwich                 \u001b[39m \u001b[39;1m0.21.6      \u001b[39;22m Python Git Library\n",
            "\u001b[36mdvc                     \u001b[39m \u001b[39;1m3.27.0      \u001b[39;22m Git for data scientists - manage your code and data together\n",
            "\u001b[36mdvc-data                \u001b[39m \u001b[39;1m2.18.2      \u001b[39;22m dvc data\n",
            "\u001b[36mdvc-http                \u001b[39m \u001b[39;1m2.30.2      \u001b[39;22m http plugin for dvc\n",
            "\u001b[36mdvc-objects             \u001b[39m \u001b[39;1m1.0.1       \u001b[39;22m dvc objects\n",
            "\u001b[36mdvc-render              \u001b[39m \u001b[39;1m0.6.0       \u001b[39;22m DVC render\n",
            "\u001b[36mdvc-s3                  \u001b[39m \u001b[39;1m2.23.0      \u001b[39;22m s3 plugin for dvc\n",
            "\u001b[36mdvc-studio-client       \u001b[39m \u001b[39;1m0.15.0      \u001b[39;22m Small library to post data from DVC/DVCLive to Iterative ...\n",
            "\u001b[36mdvc-task                \u001b[39m \u001b[39;1m0.3.0       \u001b[39;22m Extensible task queue used in DVC.\n",
            "\u001b[36meinops                  \u001b[39m \u001b[39;1m0.6.1       \u001b[39;22m A new flavour of deep learning operations\n",
            "\u001b[36mentrypoints             \u001b[39m \u001b[39;1m0.4         \u001b[39;22m Discover and load entry points from installed packages.\n",
            "\u001b[36mexceptiongroup          \u001b[39m \u001b[39;1m1.1.3       \u001b[39;22m Backport of PEP 654 (exception groups)\n",
            "\u001b[36mfilelock                \u001b[39m \u001b[39;1m3.12.2      \u001b[39;22m A platform independent file lock.\n",
            "\u001b[36mflask                   \u001b[39m \u001b[39;1m2.3.3       \u001b[39;22m A simple framework for building complex web applications.\n",
            "\u001b[36mflatten-dict            \u001b[39m \u001b[39;1m0.4.2       \u001b[39;22m A flexible utility for flattening and unflattening dict-l...\n",
            "\u001b[36mflufl-lock              \u001b[39m \u001b[39;1m7.1.1       \u001b[39;22m NFS-safe file locking with timeouts for POSIX and Windows\n",
            "\u001b[36mfonttools               \u001b[39m \u001b[39;1m4.42.1      \u001b[39;22m Tools to manipulate font files\n",
            "\u001b[36mfrozenlist              \u001b[39m \u001b[39;1m1.4.0       \u001b[39;22m A list-like structure which implements collections.abc.Mu...\n",
            "\u001b[36mfsspec                  \u001b[39m \u001b[39;1m2023.10.0   \u001b[39;22m File-system specification\n",
            "\u001b[36mfuncy                   \u001b[39m \u001b[39;1m2.0         \u001b[39;22m A fancy and practical functional tools\n",
            "\u001b[36mgdown                   \u001b[39m \u001b[39;1m4.7.1       \u001b[39;22m Google Drive direct download of big files.\n",
            "\u001b[36mgitdb                   \u001b[39m \u001b[39;1m4.0.10      \u001b[39;22m Git Object Database\n",
            "\u001b[36mgitpython               \u001b[39m \u001b[39;1m3.1.33      \u001b[39;22m GitPython is a Python library used to interact with Git r...\n",
            "\u001b[36mgoogle-auth             \u001b[39m \u001b[39;1m2.17.3      \u001b[39;22m Google Authentication Library\n",
            "\u001b[36mgoogle-auth-oauthlib    \u001b[39m \u001b[39;1m1.0.0       \u001b[39;22m Google Authentication Library\n",
            "\u001b[36mgrandalf                \u001b[39m \u001b[39;1m0.8         \u001b[39;22m Graph and drawing algorithms framework\n",
            "\u001b[36mgreenlet                \u001b[39m \u001b[39;1m2.0.2       \u001b[39;22m Lightweight in-process concurrent programming\n",
            "\u001b[36mgrpcio                  \u001b[39m \u001b[39;1m1.57.0      \u001b[39;22m HTTP/2-based RPC framework\n",
            "\u001b[36mgto                     \u001b[39m \u001b[39;1m1.4.0       \u001b[39;22m Version and deploy your models following GitOps principles\n",
            "\u001b[36mgunicorn                \u001b[39m \u001b[39;1m21.2.0      \u001b[39;22m WSGI HTTP Server for UNIX\n",
            "\u001b[36mhuggingface-hub         \u001b[39m \u001b[39;1m0.17.3      \u001b[39;22m Client library to download and publish models, datasets a...\n",
            "\u001b[36mhydra-core              \u001b[39m \u001b[39;1m1.3.2       \u001b[39;22m A framework for elegantly configuring complex applications\n",
            "\u001b[36midna                    \u001b[39m \u001b[39;1m3.4         \u001b[39;22m Internationalized Domain Names in Applications (IDNA)\n",
            "\u001b[36mimageio                 \u001b[39m \u001b[39;1m2.31.6      \u001b[39;22m Library for reading and writing a wide range of image, vi...\n",
            "\u001b[36mimportlib-metadata      \u001b[39m \u001b[39;1m6.8.0       \u001b[39;22m Read metadata from Python packages\n",
            "\u001b[36miniconfig               \u001b[39m \u001b[39;1m2.0.0       \u001b[39;22m brain-dead simple config-ini parsing\n",
            "\u001b[36miterative-telemetry     \u001b[39m \u001b[39;1m0.0.8       \u001b[39;22m Common library for sending telemetry\n",
            "\u001b[36mitk                     \u001b[39m \u001b[39;1m5.3.0       \u001b[39;22m ITK is an open-source toolkit for multidimensional image ...\n",
            "\u001b[36mitk-core                \u001b[39m \u001b[39;1m5.3.0       \u001b[39;22m ITK is an open-source toolkit for multidimensional image ...\n",
            "\u001b[36mitk-filtering           \u001b[39m \u001b[39;1m5.3.0       \u001b[39;22m ITK is an open-source toolkit for multidimensional image ...\n",
            "\u001b[36mitk-io                  \u001b[39m \u001b[39;1m5.3.0       \u001b[39;22m ITK is an open-source toolkit for multidimensional image ...\n",
            "\u001b[36mitk-numerics            \u001b[39m \u001b[39;1m5.3.0       \u001b[39;22m ITK is an open-source toolkit for multidimensional image ...\n",
            "\u001b[36mitk-registration        \u001b[39m \u001b[39;1m5.3.0       \u001b[39;22m ITK is an open-source toolkit for multidimensional image ...\n",
            "\u001b[36mitk-segmentation        \u001b[39m \u001b[39;1m5.3.0       \u001b[39;22m ITK is an open-source toolkit for multidimensional image ...\n",
            "\u001b[36mitsdangerous            \u001b[39m \u001b[39;1m2.1.2       \u001b[39;22m Safely pass data to untrusted environments and back.\n",
            "\u001b[36mjinja2                  \u001b[39m \u001b[39;1m3.1.2       \u001b[39;22m A very fast and expressive template engine.\n",
            "\u001b[36mjmespath                \u001b[39m \u001b[39;1m1.0.1       \u001b[39;22m JSON Matching Expressions\n",
            "\u001b[36mjoblib                  \u001b[39m \u001b[39;1m1.3.2       \u001b[39;22m Lightweight pipelining with Python functions\n",
            "\u001b[36mkiwisolver              \u001b[39m \u001b[39;1m1.4.5       \u001b[39;22m A fast implementation of the Cassowary constraint solver\n",
            "\u001b[36mkombu                   \u001b[39m \u001b[39;1m5.3.2       \u001b[39;22m Messaging library for Python.\n",
            "\u001b[36mlazy-loader             \u001b[39m \u001b[39;1m0.3         \u001b[39;22m lazy_loader\n",
            "\u001b[36mlit                     \u001b[39m \u001b[39;1m16.0.6      \u001b[39;22m A Software Testing Tool\n",
            "\u001b[36mlmdb                    \u001b[39m \u001b[39;1m1.4.1       \u001b[39;22m Universal Python binding for the LMDB 'Lightning' Database\n",
            "\u001b[36mloguru                  \u001b[39m \u001b[39;1m0.7.2       \u001b[39;22m Python logging made (stupidly) simple\n",
            "\u001b[36mmako                    \u001b[39m \u001b[39;1m1.2.4       \u001b[39;22m A super-fast templating language that borrows the best id...\n",
            "\u001b[36mmarkdown                \u001b[39m \u001b[39;1m3.4.4       \u001b[39;22m Python implementation of John Gruber's Markdown.\n",
            "\u001b[36mmarkdown-it-py          \u001b[39m \u001b[39;1m3.0.0       \u001b[39;22m Python port of markdown-it. Markdown parsing, done right!\n",
            "\u001b[36mmarkupsafe              \u001b[39m \u001b[39;1m2.1.3       \u001b[39;22m Safely add untrusted strings to HTML/XML markup.\n",
            "\u001b[36mmatplotlib              \u001b[39m \u001b[39;1m3.7.2       \u001b[39;22m Python plotting package\n",
            "\u001b[36mmatplotlib-inline       \u001b[39m \u001b[39;1m0.1.6       \u001b[39;22m Inline Matplotlib backend for Jupyter\n",
            "\u001b[36mmdurl                   \u001b[39m \u001b[39;1m0.1.2       \u001b[39;22m Markdown URL utilities\n",
            "\u001b[36mmlflow                  \u001b[39m \u001b[39;1m2.7.1       \u001b[39;22m MLflow: A Platform for ML Development and Productionization\n",
            "\u001b[36mmonai                   \u001b[39m \u001b[39;1m1.2.0       \u001b[39;22m AI Toolkit for Healthcare Imaging\n",
            "\u001b[36mmpmath                  \u001b[39m \u001b[39;1m1.3.0       \u001b[39;22m Python library for arbitrary-precision floating-point ari...\n",
            "\u001b[36mmultidict               \u001b[39m \u001b[39;1m6.0.4       \u001b[39;22m multidict implementation\n",
            "\u001b[36mnetworkx                \u001b[39m \u001b[39;1m3.1         \u001b[39;22m Python package for creating and manipulating graphs and n...\n",
            "\u001b[36mnibabel                 \u001b[39m \u001b[39;1m5.1.0       \u001b[39;22m Access a multitude of neuroimaging data formats\n",
            "\u001b[36mnptyping                \u001b[39m \u001b[39;1m2.5.0       \u001b[39;22m Type hints for NumPy.\n",
            "\u001b[36mnumpy                   \u001b[39m \u001b[39;1m1.24.4      \u001b[39;22m Fundamental package for array computing in Python\n",
            "\u001b[36mnvidia-cublas-cu11      \u001b[39m \u001b[39;1m11.10.3.66  \u001b[39;22m CUBLAS native runtime libraries\n",
            "\u001b[36mnvidia-cuda-cupti-cu11  \u001b[39m \u001b[39;1m11.7.101    \u001b[39;22m CUDA profiling tools runtime libs.\n",
            "\u001b[36mnvidia-cuda-nvrtc-cu11  \u001b[39m \u001b[39;1m11.7.99     \u001b[39;22m NVRTC native runtime libraries\n",
            "\u001b[36mnvidia-cuda-runtime-cu11\u001b[39m \u001b[39;1m11.7.99     \u001b[39;22m CUDA Runtime native Libraries\n",
            "\u001b[36mnvidia-cudnn-cu11       \u001b[39m \u001b[39;1m8.5.0.96    \u001b[39;22m cuDNN runtime libraries\n",
            "\u001b[36mnvidia-cufft-cu11       \u001b[39m \u001b[39;1m10.9.0.58   \u001b[39;22m CUFFT native runtime libraries\n",
            "\u001b[36mnvidia-curand-cu11      \u001b[39m \u001b[39;1m10.2.10.91  \u001b[39;22m CURAND native runtime libraries\n",
            "\u001b[36mnvidia-cusolver-cu11    \u001b[39m \u001b[39;1m11.4.0.1    \u001b[39;22m CUDA solver native runtime libraries\n",
            "\u001b[36mnvidia-cusparse-cu11    \u001b[39m \u001b[39;1m11.7.4.91   \u001b[39;22m CUSPARSE native runtime libraries\n",
            "\u001b[36mnvidia-nccl-cu11        \u001b[39m \u001b[39;1m2.14.3      \u001b[39;22m NVIDIA Collective Communication Library (NCCL) Runtime\n",
            "\u001b[36mnvidia-nvtx-cu11        \u001b[39m \u001b[39;1m11.7.91     \u001b[39;22m NVIDIA Tools Extension\n",
            "\u001b[36moauthlib                \u001b[39m \u001b[39;1m3.2.2       \u001b[39;22m A generic, spec-compliant, thorough implementation of the...\n",
            "\u001b[36momegaconf               \u001b[39m \u001b[39;1m2.3.0       \u001b[39;22m A flexible configuration library\n",
            "\u001b[36morjson                  \u001b[39m \u001b[39;1m3.9.9       \u001b[39;22m Fast, correct Python JSON library supporting dataclasses,...\n",
            "\u001b[36mpackaging               \u001b[39m \u001b[39;1m23.1        \u001b[39;22m Core utilities for Python packages\n",
            "\u001b[36mpandas                  \u001b[39m \u001b[39;1m2.0.3       \u001b[39;22m Powerful data structures for data analysis, time series, ...\n",
            "\u001b[36mpathspec                \u001b[39m \u001b[39;1m0.11.2      \u001b[39;22m Utility library for gitignore style pattern matching of f...\n",
            "\u001b[36mpathtools               \u001b[39m \u001b[39;1m0.1.2       \u001b[39;22m File system general utilities\n",
            "\u001b[36mpillow                  \u001b[39m \u001b[39;1m10.0.0      \u001b[39;22m Python Imaging Library (Fork)\n",
            "\u001b[36mplatformdirs            \u001b[39m \u001b[39;1m3.11.0      \u001b[39;22m A small Python package for determining appropriate platfo...\n",
            "\u001b[36mpluggy                  \u001b[39m \u001b[39;1m1.3.0       \u001b[39;22m plugin and hook calling mechanisms for python\n",
            "\u001b[36mpowerlaw                \u001b[39m \u001b[39;1m1.5         \u001b[39;22m Toolbox for testing if a probability distribution fits a ...\n",
            "\u001b[36mprompt-toolkit          \u001b[39m \u001b[39;1m3.0.39      \u001b[39;22m Library for building powerful interactive command lines i...\n",
            "\u001b[36mprotobuf                \u001b[39m \u001b[39;1m4.24.1      \u001b[39;22m \n",
            "\u001b[36mpsutil                  \u001b[39m \u001b[39;1m5.9.5       \u001b[39;22m Cross-platform lib for process and system monitoring in P...\n",
            "\u001b[36mpyarrow                 \u001b[39m \u001b[39;1m12.0.1      \u001b[39;22m Python library for Apache Arrow\n",
            "\u001b[36mpyasn1                  \u001b[39m \u001b[39;1m0.5.0       \u001b[39;22m Pure-Python implementation of ASN.1 types and DER/BER/CER...\n",
            "\u001b[36mpyasn1-modules          \u001b[39m \u001b[39;1m0.3.0       \u001b[39;22m A collection of ASN.1-based protocols modules\n",
            "\u001b[36mpycparser               \u001b[39m \u001b[39;1m2.21        \u001b[39;22m C parser in Python\n",
            "\u001b[36mpydantic                \u001b[39m \u001b[39;1m2.4.2       \u001b[39;22m Data validation using Python type hints\n",
            "\u001b[36mpydantic-core           \u001b[39m \u001b[39;1m2.10.1      \u001b[39;22m \n",
            "\u001b[36mpydot                   \u001b[39m \u001b[39;1m1.4.2       \u001b[39;22m Python interface to Graphviz's Dot\n",
            "\u001b[36mpygit2                  \u001b[39m \u001b[39;1m1.13.1      \u001b[39;22m Python bindings for libgit2.\n",
            "\u001b[36mpygments                \u001b[39m \u001b[39;1m2.16.1      \u001b[39;22m Pygments is a syntax highlighting package written in Python.\n",
            "\u001b[36mpygtrie                 \u001b[39m \u001b[39;1m2.5.0       \u001b[39;22m A pure Python trie data structure implementation.\n",
            "\u001b[36mpyjwt                   \u001b[39m \u001b[39;1m2.8.0       \u001b[39;22m JSON Web Token implementation in Python\n",
            "\u001b[36mpynrrd                  \u001b[39m \u001b[39;1m1.0.0       \u001b[39;22m Pure python module for reading and writing NRRD files.\n",
            "\u001b[36mpyparsing               \u001b[39m \u001b[39;1m3.0.9       \u001b[39;22m pyparsing module - Classes and methods to define and exec...\n",
            "\u001b[36mpysocks                 \u001b[39m \u001b[39;1m1.7.1       \u001b[39;22m A Python SOCKS client module. See https://github.com/Anor...\n",
            "\u001b[36mpytest                  \u001b[39m \u001b[39;1m7.4.3       \u001b[39;22m pytest: simple powerful testing with Python\n",
            "\u001b[36mpython-dateutil         \u001b[39m \u001b[39;1m2.8.2       \u001b[39;22m Extensions to the standard Python datetime module\n",
            "\u001b[36mpytorch-ignite          \u001b[39m \u001b[39;1m0.4.13      \u001b[39;22m A lightweight library to help with training neural networ...\n",
            "\u001b[36mpytz                    \u001b[39m \u001b[39;1m2023.3.post1\u001b[39;22m World timezone definitions, modern and historical\n",
            "\u001b[36mpywavelets              \u001b[39m \u001b[39;1m1.4.1       \u001b[39;22m PyWavelets, wavelet transform module\n",
            "\u001b[36mpyyaml                  \u001b[39m \u001b[39;1m6.0.1       \u001b[39;22m YAML parser and emitter for Python\n",
            "\u001b[36mquerystring-parser      \u001b[39m \u001b[39;1m1.2.4       \u001b[39;22m QueryString parser for Python/Django that correctly handl...\n",
            "\u001b[36mregex                   \u001b[39m \u001b[39;1m2023.10.3   \u001b[39;22m Alternative regular expression module, to replace re.\n",
            "\u001b[36mrequests                \u001b[39m \u001b[39;1m2.31.0      \u001b[39;22m Python HTTP for Humans.\n",
            "\u001b[36mrequests-oauthlib       \u001b[39m \u001b[39;1m1.3.1       \u001b[39;22m OAuthlib authentication support for Requests.\n",
            "\u001b[36mrich                    \u001b[39m \u001b[39;1m13.6.0      \u001b[39;22m Render rich text, tables, progress bars, syntax highlight...\n",
            "\u001b[36mrsa                     \u001b[39m \u001b[39;1m4.9         \u001b[39;22m Pure-Python RSA implementation\n",
            "\u001b[36mruamel-yaml             \u001b[39m \u001b[39;1m0.18.2      \u001b[39;22m ruamel.yaml is a YAML parser/emitter that supports roundt...\n",
            "\u001b[36mruamel-yaml-clib        \u001b[39m \u001b[39;1m0.2.8       \u001b[39;22m C version of reader, parser and emitter for ruamel.yaml d...\n",
            "\u001b[36ms3fs                    \u001b[39m \u001b[39;1m2023.10.0   \u001b[39;22m Convenient Filesystem interface over S3\n",
            "\u001b[36ms3transfer              \u001b[39m \u001b[39;1m0.7.0       \u001b[39;22m An Amazon S3 Transfer Manager\n",
            "\u001b[36msafetensors             \u001b[39m \u001b[39;1m0.4.0       \u001b[39;22m \n",
            "\u001b[36mscikit-image            \u001b[39m \u001b[39;1m0.21.0      \u001b[39;22m Image processing in Python\n",
            "\u001b[36mscikit-learn            \u001b[39m \u001b[39;1m1.3.2       \u001b[39;22m A set of python modules for machine learning and data mining\n",
            "\u001b[36mscipy                   \u001b[39m \u001b[39;1m1.9.3       \u001b[39;22m Fundamental algorithms for scientific computing in Python\n",
            "\u001b[36mscmrepo                 \u001b[39m \u001b[39;1m1.4.0       \u001b[39;22m SCM wrapper and fsspec filesystem for Git for use in DVC\n",
            "\u001b[36msemver                  \u001b[39m \u001b[39;1m3.0.2       \u001b[39;22m Python helper for Semantic Versioning (https://semver.org)\n",
            "\u001b[36msentry-sdk              \u001b[39m \u001b[39;1m1.30.0      \u001b[39;22m Python client for Sentry (https://sentry.io)\n",
            "\u001b[36msetproctitle            \u001b[39m \u001b[39;1m1.3.2       \u001b[39;22m A Python module to customize the process title\n",
            "\u001b[36msetuptools              \u001b[39m \u001b[39;1m68.1.2      \u001b[39;22m Easily download, build, install, upgrade, and uninstall P...\n",
            "\u001b[36mshortuuid               \u001b[39m \u001b[39;1m1.0.11      \u001b[39;22m A generator library for concise, unambiguous and URL-safe...\n",
            "\u001b[36mshtab                   \u001b[39m \u001b[39;1m1.6.4       \u001b[39;22m Automagic shell tab completion for Python CLI applications\n",
            "\u001b[36msix                     \u001b[39m \u001b[39;1m1.16.0      \u001b[39;22m Python 2 and 3 compatibility utilities\n",
            "\u001b[36msmmap                   \u001b[39m \u001b[39;1m5.0.0       \u001b[39;22m A pure Python implementation of a sliding window memory m...\n",
            "\u001b[36msoupsieve               \u001b[39m \u001b[39;1m2.5         \u001b[39;22m A modern CSS selector implementation for Beautiful Soup.\n",
            "\u001b[36msqlalchemy              \u001b[39m \u001b[39;1m2.0.20      \u001b[39;22m Database Abstraction Library\n",
            "\u001b[36msqlparse                \u001b[39m \u001b[39;1m0.4.4       \u001b[39;22m A non-validating SQL parser.\n",
            "\u001b[36msqltrie                 \u001b[39m \u001b[39;1m0.8.0       \u001b[39;22m SQL-based prefix tree inspired by pygtrie and python-disk...\n",
            "\u001b[36msympy                   \u001b[39m \u001b[39;1m1.12        \u001b[39;22m Computer algebra system (CAS) in Python\n",
            "\u001b[36mtabulate                \u001b[39m \u001b[39;1m0.9.0       \u001b[39;22m Pretty-print tabular data\n",
            "\u001b[36mtensorboard             \u001b[39m \u001b[39;1m2.14.0      \u001b[39;22m TensorBoard lets you watch Tensors Flow\n",
            "\u001b[36mtensorboard-data-server \u001b[39m \u001b[39;1m0.7.1       \u001b[39;22m Fast data loading for TensorBoard\n",
            "\u001b[36mthreadpoolctl           \u001b[39m \u001b[39;1m3.2.0       \u001b[39;22m threadpoolctl\n",
            "\u001b[36mtifffile                \u001b[39m \u001b[39;1m2023.7.10   \u001b[39;22m Read and write TIFF files\n",
            "\u001b[36mtokenizers              \u001b[39m \u001b[39;1m0.14.1      \u001b[39;22m \n",
            "\u001b[36mtomli                   \u001b[39m \u001b[39;1m2.0.1       \u001b[39;22m A lil' TOML parser\n",
            "\u001b[36mtomlkit                 \u001b[39m \u001b[39;1m0.12.1      \u001b[39;22m Style preserving TOML library\n",
            "\u001b[36mtorch                   \u001b[39m \u001b[39;1m2.0.0       \u001b[39;22m Tensors and Dynamic neural networks in Python with strong...\n",
            "\u001b[36mtqdm                    \u001b[39m \u001b[39;1m4.66.1      \u001b[39;22m Fast, Extensible Progress Meter\n",
            "\u001b[36mtraitlets               \u001b[39m \u001b[39;1m5.12.0      \u001b[39;22m Traitlets Python configuration system\n",
            "\u001b[36mtransformers            \u001b[39m \u001b[39;1m4.34.1      \u001b[39;22m State-of-the-art Machine Learning for JAX, PyTorch and Te...\n",
            "\u001b[36mtriton                  \u001b[39m \u001b[39;1m2.0.0       \u001b[39;22m A language and compiler for custom Deep Learning operations\n",
            "\u001b[36mtyper                   \u001b[39m \u001b[39;1m0.9.0       \u001b[39;22m Typer, build great CLIs. Easy to code. Based on Python ty...\n",
            "\u001b[36mtyping-extensions       \u001b[39m \u001b[39;1m4.7.1       \u001b[39;22m Backported and Experimental Type Hints for Python 3.7+\n",
            "\u001b[36mtzdata                  \u001b[39m \u001b[39;1m2023.3      \u001b[39;22m Provider of IANA time zone data\n",
            "\u001b[36murllib3                 \u001b[39m \u001b[39;1m1.26.18     \u001b[39;22m HTTP library with thread-safe connection pooling, file po...\n",
            "\u001b[36mvine                    \u001b[39m \u001b[39;1m5.0.0       \u001b[39;22m Promises, promises, promises.\n",
            "\u001b[36mvoluptuous              \u001b[39m \u001b[39;1m0.13.1      \u001b[39;22m \n",
            "\u001b[36mwandb                   \u001b[39m \u001b[39;1m0.15.12     \u001b[39;22m A CLI and library for interacting with the Weights & Bias...\n",
            "\u001b[36mwcwidth                 \u001b[39m \u001b[39;1m0.2.8       \u001b[39;22m Measures the displayed width of unicode strings in a term...\n",
            "\u001b[36mwebsocket-client        \u001b[39m \u001b[39;1m1.6.2       \u001b[39;22m WebSocket client for Python with low level API options\n",
            "\u001b[36mweightwatcher           \u001b[39m \u001b[39;1m0.7.3.1     \u001b[39;22m Diagnostic Tool for Deep Neural Networks\n",
            "\u001b[36mwerkzeug                \u001b[39m \u001b[39;1m2.3.7       \u001b[39;22m The comprehensive WSGI web application library.\n",
            "\u001b[36mwheel                   \u001b[39m \u001b[39;1m0.41.2      \u001b[39;22m A built-package format for Python\n",
            "\u001b[36mwrapt                   \u001b[39m \u001b[39;1m1.15.0      \u001b[39;22m Module for decorators, wrappers and monkey patching.\n",
            "\u001b[36myarl                    \u001b[39m \u001b[39;1m1.9.2       \u001b[39;22m Yet another URL library\n",
            "\u001b[36mzc-lockfile             \u001b[39m \u001b[39;1m3.0.post1   \u001b[39;22m Basic inter-process locks\n",
            "\u001b[36mzipp                    \u001b[39m \u001b[39;1m3.16.2      \u001b[39;22m Backport of pathlib-compatible object wrapper for zip files\n"
          ]
        }
      ]
    },
    {
      "cell_type": "code",
      "execution_count": 4,
      "outputs": [
        {
          "output_type": "stream",
          "name": "stdout",
          "text": [
            "symlink failed, e = [Errno 17] File exists: '/content/minivess_mlops/.venv/lib/python3.10/site-packages' -> '/content/venv_poetry'\n"
          ]
        }
      ],
      "source": [
        "if running_in_colab:\n",
        "  VENV_BASE = '/content/minivess_mlops/.venv'\n",
        "  VENV_PATH = os.path.join(VENV_BASE, 'lib', 'python3.10', 'site-packages')\n",
        "  #VENV_PATH = \"/content/gdrive/MyDrive/test-poetry/.venv/lib/python3.8/site-packages\"\n",
        "  #!mkdir /content/venv\n",
        "  LOCAL_VENV_PATH = '/content/venv_poetry' # local notebook\n",
        "  try:\n",
        "    os.symlink(VENV_PATH, LOCAL_VENV_PATH) # connect to directory in drive\n",
        "  except Exception as e:\n",
        "    print('symlink failed, e = {}'.format(e))\n",
        "  sys.path.insert(0, LOCAL_VENV_PATH)\n",
        "\n",
        "  sys.path.insert(0,'/content/minivess_mlops')"
      ],
      "metadata": {
        "ExecuteTime": {
          "end_time": "2023-10-25T01:31:02.499068266Z",
          "start_time": "2023-10-25T01:31:02.486576033Z"
        },
        "id": "18c3a271cdfbd652",
        "outputId": "e91f7872-bca4-4785-c3e9-f3edfdca6508",
        "colab": {
          "base_uri": "https://localhost:8080/"
        }
      },
      "id": "18c3a271cdfbd652"
    },
    {
      "cell_type": "code",
      "execution_count": 5,
      "outputs": [
        {
          "output_type": "stream",
          "name": "stderr",
          "text": [
            "/content/venv_poetry/pydantic/_internal/_fields.py:128: UserWarning: Field \"model_server_url\" has conflict with protected namespace \"model_\".\n",
            "\n",
            "You may be able to resolve this warning by setting `model_config['protected_namespaces'] = ()`.\n",
            "  warnings.warn(\n",
            "/content/venv_poetry/pydantic/_internal/_config.py:317: UserWarning: Valid config keys have changed in V2:\n",
            "* 'schema_extra' has been renamed to 'json_schema_extra'\n",
            "  warnings.warn(message, UserWarning)\n",
            "Failed to load image Python extension: '/usr/local/lib/python3.10/dist-packages/torchvision/image.so: undefined symbol: _ZN3c104cuda9SetDeviceEi'If you don't plan on using image functionality from `torchvision.io`, you can ignore this warning. Otherwise, there might be something wrong with your environment. Did you have `libjpeg` or `libpng` installed before building `torchvision` from source?\n",
            "WARNING:weightwatcher:PyTorch is available but CUDA is not. Defaulting to SciPy for SVD\n"
          ]
        }
      ],
      "source": [
        "from loguru import logger\n",
        "\n",
        "from src.run_training import parse_args_to_dict\n",
        "from src.training.experiment import define_experiment_data\n",
        "from src.utils.config_utils import import_config"
      ],
      "metadata": {
        "id": "zUYqIvC5o7As",
        "outputId": "4407b15c-56a8-4339-e400-f801ecdc086a",
        "colab": {
          "base_uri": "https://localhost:8080/"
        }
      },
      "id": "zUYqIvC5o7As"
    },
    {
      "cell_type": "markdown",
      "source": [
        "Import helper subfunction(s)"
      ],
      "metadata": {
        "collapsed": false,
        "id": "9aed4aabb6c2f770"
      },
      "id": "9aed4aabb6c2f770"
    },
    {
      "cell_type": "code",
      "execution_count": 6,
      "outputs": [],
      "source": [
        "def get_dataloaders(experim_dataloaders: dict):\n",
        "    # Get the \"validation\" and \"train\" dataloaders from the dictionary\n",
        "    fold_name = 'fold0'\n",
        "    split_names = list(experim_dataloaders[fold_name].keys())\n",
        "    fold_key = experim_dataloaders.get(fold_name)\n",
        "    if fold_key is not None:\n",
        "        try:\n",
        "            train = experim_dataloaders[fold_name]['TRAIN']\n",
        "            val = experim_dataloaders[fold_name]['VAL']['MINIVESS']\n",
        "        except Exception as e:\n",
        "            raise IOError('Could not get the dataloaders from the dictionary, error = {}'.format(e))\n",
        "    else:\n",
        "        raise IOError('Fold name = \"{}\" not found in the dataloaders dictionary'.format(fold_name))\n",
        "    return train, val"
      ],
      "metadata": {
        "ExecuteTime": {
          "end_time": "2023-10-25T01:31:07.120380382Z",
          "start_time": "2023-10-25T01:31:07.114209819Z"
        },
        "id": "3e05f12233738a40"
      },
      "id": "3e05f12233738a40"
    },
    {
      "cell_type": "markdown",
      "source": [
        "Input arguments for the training (you can add all the input arguments supported by `run_training.py` here"
      ],
      "metadata": {
        "collapsed": false,
        "id": "285ff9d623a96c9f"
      },
      "id": "285ff9d623a96c9f"
    },
    {
      "cell_type": "code",
      "execution_count": 7,
      "outputs": [
        {
          "output_type": "stream",
          "name": "stderr",
          "text": [
            "2023-11-02 01:24:50.221 | INFO     | src.run_training:parse_args_to_dict:73 - Parsed input arguments:\n",
            "2023-11-02 01:24:50.225 | INFO     | src.utils.general_utils:print_dict_to_logger:43 - task_config_file: tutorials/train_demo\n",
            "2023-11-02 01:24:50.228 | INFO     | src.utils.general_utils:print_dict_to_logger:43 - run_mode: train\n",
            "2023-11-02 01:24:50.232 | INFO     | src.utils.general_utils:print_dict_to_logger:43 - data_dir: /mnt/minivess-dvc-cache\n",
            "2023-11-02 01:24:50.234 | INFO     | src.utils.general_utils:print_dict_to_logger:43 - output_dir: /mnt/minivess-artifacts\n",
            "2023-11-02 01:24:50.238 | INFO     | src.utils.general_utils:print_dict_to_logger:43 - s3_mount: False\n",
            "2023-11-02 01:24:50.242 | INFO     | src.utils.general_utils:print_dict_to_logger:43 - local_rank: 0\n",
            "2023-11-02 01:24:50.246 | INFO     | src.utils.general_utils:print_dict_to_logger:43 - project_name: minivess-test2\n"
          ]
        }
      ],
      "source": [
        "input_args = ['-c', 'tutorials/train_demo']\n",
        "\n",
        "# Fake these as coming from the command line to match the main code (run_training.py)\n",
        "sys.argv = ['notebook_run']  # Jupyter has all the extra crap, so replace that with this\n",
        "for sysargv in input_args:\n",
        "    sys.argv.append(sysargv)\n",
        "args = parse_args_to_dict()"
      ],
      "metadata": {
        "ExecuteTime": {
          "end_time": "2023-10-25T01:31:08.972102213Z",
          "start_time": "2023-10-25T01:31:08.946666458Z"
        },
        "id": "cfe20cf4816832a7",
        "outputId": "16d6106c-e84f-4d9a-c828-70edc1ece0d3",
        "colab": {
          "base_uri": "https://localhost:8080/"
        }
      },
      "id": "cfe20cf4816832a7"
    },
    {
      "cell_type": "markdown",
      "source": [
        "Create the config with Hydra from the .yaml file(s)"
      ],
      "metadata": {
        "collapsed": false,
        "id": "91f922a0c5e5c340"
      },
      "id": "91f922a0c5e5c340"
    },
    {
      "cell_type": "code",
      "execution_count": 8,
      "outputs": [
        {
          "output_type": "stream",
          "name": "stderr",
          "text": [
            "2023-11-02 01:24:51.356 | INFO     | src.utils.config_utils:hydra_import_config:91 - Initializing Hydra with config_path = \"/content/minivess_mlops/./configs\", job_name = \"config_test\", version_base = \"1.2\"\n",
            "2023-11-02 01:24:51.364 | INFO     | src.utils.config_utils:hydra_import_config:93 - Hydra overrides list = ['+tutorials=train_demo']\n"
          ]
        },
        {
          "output_type": "stream",
          "name": "stdout",
          "text": [
            "{'VERSION': '0.01alpha', 'NAME': 'train_demo', 'config': {'VERBOSE': True, 'DATA': {'DATA_SOURCE': {'DATASET_NAMES': ['MINIVESS'], 'FOLDER': {'PLACEHOLDER': 'placeholder', 'TRANSFORMS': {'TEST': 'NO_AUG'}, 'DATASET': {'NAME': 'MONAI_CACHEDATASET', 'MONAI_CACHEDATASET': {'CACHE_RATE': 0.0, 'NUM_WORKERS': 1}}}, 'MINIVESS': {'FETCH_METHOD': 'DVC', 'FETCH_METHODS': {'DVC': {'datapath_base': 'data', 'version': 'placeholder'}, 'EBrains': {'DATA_INFO_URL': 'https://doi.org/10.25493/HPBE-YHK', 'DATA_DOWNLOAD_URL': 'https://data.kg.ebrains.eu/zip?container=https://data-proxy.ebrains.eu/api/v1/buckets/d-bf268b89-1420-476b-b428-b85a913eb523'}}, 'SPLITS': {'NAME': 'RANDOM', 'RANDOM': {'SEED': 42, 'TEST_VAL_RATIO': 0.1, 'TRAIN_RATIO': 0.8}, 'TXT_FILE': {'PLACEHOLDER': 0}}, 'SUBSET': {'NAME': 'ALL_SAMPLES', 'ALL_SAMPLES': {'PLACEHOLDER_PARAM': 'placeholder'}, 'DEBUG': {'TRAIN': 2, 'VAL': 2, 'TEST': 1}}, 'DATASET': {'NAME': 'MONAI_CACHEDATASET', 'MONAI_CACHEDATASET': {'CACHE_RATE': 0.0, 'NUM_WORKERS': 1}}, 'TRANSFORMS': {'TRAIN': 'BASIC_AUG', 'VAL': 'NO_AUG', 'TEST': 'NO_AUG'}}}, 'DATALOADER': {'SKIP_DATALOADER': False, 'NAME': 'DATALOADER_BASIC', 'DATALOADER_BASIC': {'PLACEHOLDER': 1}, 'THREAD_DATALOADER': {'PLACEHOLDER': 1}, 'TRAIN': {'BATCH_SZ': 1, 'NUM_WORKERS': 1}, 'VAL': {'BATCH_SZ': 2, 'NUM_WORKERS': 1}, 'TEST': {'BATCH_SZ': 2, 'NUM_WORKERS': 1}}}, 'MACHINE': {'DISTRIBUTED': False, 'DEVICE': 'gpu'}, 'MODEL': {'META_MODEL': ['Unet', 'SegResNet'], 'Unet_2D': {'spatial_dims': 2, 'in_channels': 1, 'out_channels': 1, 'channels': [4, 8, 16], 'strides': [2, 2], 'num_res_units': 2}, 'Unet': {'spatial_dims': 3, 'in_channels': 1, 'out_channels': 1, 'channels': [4, 8, 16], 'strides': [2, 2], 'num_res_units': 2}, 'SegResNet': {'spatial_dims': 3, 'in_channels': 1, 'out_channels': 1}}, 'TRANSFORMS': {'BASIC_AUG': {'param1': 'placeholder'}, 'NO_AUG': {'param1': 'placeholder'}}, 'TRAINING': {'SKIP_TRAINING': True, 'Unet_2D': {'PRECISION': 'AMP', 'NO_REPEATS': 1, 'NUM_EPOCHS': 2, 'LR': 0.0001, 'LOSS': {'NAME': 'DiceLoss', 'PARAMS': {'sigmoid': True}}, 'OPTIMIZER': {'NAME': 'Adam'}, 'SCHEDULER': {'NAME': None}}, 'Unet': {'PRECISION': 'AMP', 'NO_REPEATS': 1, 'NUM_EPOCHS': 2, 'LR': 0.0001, 'LOSS': {'NAME': 'DiceFocalLoss', 'PARAMS': {'placeholder': 0}}, 'OPTIMIZER': {'NAME': 'Novograd'}, 'SCHEDULER': {'NAME': 'CosineAnnealingLR'}}, 'SegResNet': {'PRECISION': 'AMP', 'NO_REPEATS': 1, 'NUM_EPOCHS': 2, 'LR': 0.0001, 'LOSS': {'NAME': 'DiceFocalLoss'}, 'OPTIMIZER': {'NAME': 'Novograd'}, 'SCHEDULER': {'NAME': 'CosineAnnealingLR'}}}, 'VALIDATION': {'METRICS_TO_TRACK': ['dice'], 'METRICS_TO_TRACK_OPERATORS': ['max'], 'NO_WARMUP_EPOCHS': 0, 'EMA_SMOOTH': False, 'SAVE_FULL_MODEL': True, 'VALIDATION_PARAMS': {'roi_size': [64, 64, 8], 'sw_batch_size': 4, 'overlap': 0.6}}, 'VALIDATION_BEST': {'enable': False, 'METRICS': ['dice', 'hausdorff'], 'METRICS_OPERATORS': ['max', 'min']}, 'ENSEMBLE': {'enable': True, 'PARAMS': {'method': 'average', 'mask_threshold': 0.5}}, 'DATASETS': {'PYTORCH': {'PLACEHOLDER': 1}}, 'LOSS': {'DiceFocalLoss': {'smooth_nr': 1e-05, 'smooth_dr': 1e-05, 'squared_pred': True, 'to_onehot_y': False, 'sigmoid': True, 'batch': True}}, 'OPTIMIZER': {'Novograd': {'PLACEHOLDER': 1}}, 'SCHEDULER': {'CosineAnnealingLR': {'PLACEHOLDER': 1}}, 'TESTING': {'DATA': {'DUMMY': {'enable': False}}, 'DATASET': {'debug_testing': False}, 'DATALOADER': {'debug_testing': False, 'DATA_VALIDITY': {'enable': False}}, 'MODEL': {'WEIGHTWATCHER': {'enable': True, 'analyze_cfg': {'min_evals': '50,', 'max_evals': 500}}}}, 'LOGGING': {'unique_hyperparam_name_with_hash': True, 'MAIN_METRIC': {'tracked_metric': 'dice', 'metric': 'dice', 'dataset': 'MINIVESS'}, 'TENSORBOARD': {'placeholder': 1}, 'MLFLOW': {'TRACKING': {'enable': False, 'DATASET': {'placeholder': 0}}, 'MODEL_REGISTRY': {'placeholder': 1}, 'TEST_LOGGING': {'split': 'TEST', 'split_subset': 'MINIVESS', 'CHECK_LOCAL': {'check_weights': True}, 'CHECK_MLFLOW_MODELS': {'check_weights': True, 'repeat_level_output': False, 'ensemble_level_output': True}, 'CHECK_MLFLOW_MODEL_REGISTRY': {'placeholder': None}}}, 'WANDB': {'enable': False, 's3': None}}, 'SERVICES': {'MLFLOW': {'server_URI': 'https://dagshub.com/petteriTeikari/minivess_mlops.mlflow'}, 'DVC': {'repo_url': 'https://github.com/petteriTeikari/minivess_mlops'}, 'S3': {'dataset_bucket': 's3://minivessdataset', 'artifacts_bucket': 's3://minivess-artifacts'}}}}\n"
          ]
        }
      ],
      "source": [
        "from src.utils.config_utils import config_import_script, set_up_experiment_run\n",
        "\n",
        "config = config_import_script(args['task_config_file'],\n",
        "                              parent_dir_string = '.', #f'..{os.sep}..',\n",
        "                              parent_dir_string_defaults = f'..{os.sep}..')\n",
        "print(config)"
      ],
      "metadata": {
        "ExecuteTime": {
          "end_time": "2023-10-25T01:31:10.428700721Z",
          "start_time": "2023-10-25T01:31:10.169865984Z"
        },
        "id": "c432cc673828082d",
        "outputId": "92cc8184-030e-4678-ed16-635d87d9381e",
        "colab": {
          "base_uri": "https://localhost:8080/"
        }
      },
      "id": "c432cc673828082d"
    },
    {
      "cell_type": "code",
      "source": [
        "if running_in_colab:\n",
        "  if os.path.exists('/mnt'):\n",
        "    os.makedirs(args['data_dir'], exist_ok=True)  # DVC Cache\n",
        "    os.makedirs(args['output_dir'], exist_ok=True)  # Artifacts output\n",
        ""
      ],
      "metadata": {
        "id": "_YUkKC8HAGpD"
      },
      "id": "_YUkKC8HAGpD",
      "execution_count": 9,
      "outputs": []
    },
    {
      "cell_type": "markdown",
      "source": [
        "Authenticate to AWS S3?\n",
        "* [Public read-only s3 remote](https://discuss.dvc.org/t/public-read-only-s3-remote/355/3)\n",
        "* [manage_data.ipynb - Colaboratory](https://colab.research.google.com/github/khuyentran1401/Efficient_Python_tricks_and_tools_for_data_scientists/blob/master/Chapter5/manage_data.ipynb)\n",
        "* [DagsHub integration with Google Colab](https://dagshub.com/docs/integration_guide/google_colab/)"
      ],
      "metadata": {
        "collapsed": false,
        "id": "6d7010ee76e35121"
      },
      "id": "6d7010ee76e35121"
    },
    {
      "cell_type": "markdown",
      "source": [
        "Pull the data from DVC"
      ],
      "metadata": {
        "collapsed": false,
        "id": "2720439298594b25"
      },
      "id": "2720439298594b25"
    },
    {
      "cell_type": "code",
      "execution_count": 10,
      "outputs": [
        {
          "output_type": "stream",
          "name": "stdout",
          "text": [
            "Collecting          |1.00 [00:00, 1.57entry/s]\n",
            "ERROR: failed to connect to s3 (minivessdataset/files/md5) - Unable to locate credentials\n",
            "Fetching\n",
            "ERROR: failed to pull data from the cloud - 1 files failed to download\n"
          ]
        }
      ],
      "source": [
        "!dvc pull"
      ],
      "metadata": {
        "id": "1b42939170a7d77a",
        "outputId": "737f9512-545c-4c29-fecf-d4cbec782259",
        "colab": {
          "base_uri": "https://localhost:8080/"
        }
      },
      "id": "1b42939170a7d77a"
    },
    {
      "cell_type": "code",
      "source": [
        "cfg = import_config(args=args, task_cfg_name=args['task_config_file'])"
      ],
      "metadata": {
        "id": "CVXYyW7yAGW0",
        "outputId": "cdcf7378-791b-4d61-bd79-003c9ffcaf6b",
        "colab": {
          "base_uri": "https://localhost:8080/",
          "height": 365
        }
      },
      "id": "CVXYyW7yAGW0",
      "execution_count": 11,
      "outputs": [
        {
          "output_type": "stream",
          "name": "stderr",
          "text": [
            "2023-11-02 01:24:53.372 | ERROR    | src.utils.config_utils:get_config_path:37 - Configuration dir \"/content/minivess_mlops/../configs\" does not exist!\n"
          ]
        },
        {
          "output_type": "error",
          "ename": "OSError",
          "evalue": "ignored",
          "traceback": [
            "\u001b[0;31m---------------------------------------------------------------------------\u001b[0m",
            "\u001b[0;31mOSError\u001b[0m                                   Traceback (most recent call last)",
            "\u001b[0;32m<ipython-input-11-329c9e285490>\u001b[0m in \u001b[0;36m<cell line: 1>\u001b[0;34m()\u001b[0m\n\u001b[0;32m----> 1\u001b[0;31m \u001b[0mcfg\u001b[0m \u001b[0;34m=\u001b[0m \u001b[0mimport_config\u001b[0m\u001b[0;34m(\u001b[0m\u001b[0margs\u001b[0m\u001b[0;34m=\u001b[0m\u001b[0margs\u001b[0m\u001b[0;34m,\u001b[0m \u001b[0mtask_cfg_name\u001b[0m\u001b[0;34m=\u001b[0m\u001b[0margs\u001b[0m\u001b[0;34m[\u001b[0m\u001b[0;34m'task_config_file'\u001b[0m\u001b[0;34m]\u001b[0m\u001b[0;34m)\u001b[0m\u001b[0;34m\u001b[0m\u001b[0;34m\u001b[0m\u001b[0m\n\u001b[0m",
            "\u001b[0;32m/content/minivess_mlops/src/utils/config_utils.py\u001b[0m in \u001b[0;36mimport_config\u001b[0;34m(args, task_cfg_name, reprod_cfg_name, log_level)\u001b[0m\n\u001b[1;32m    130\u001b[0m         \u001b[0mtask_cfg_name\u001b[0m \u001b[0;34m=\u001b[0m \u001b[0mupdate_task_cfg_for_ci_cd_jobs\u001b[0m\u001b[0;34m(\u001b[0m\u001b[0mrun_mode\u001b[0m\u001b[0;34m=\u001b[0m\u001b[0margs\u001b[0m\u001b[0;34m[\u001b[0m\u001b[0;34m'run_mode'\u001b[0m\u001b[0;34m]\u001b[0m\u001b[0;34m)\u001b[0m\u001b[0;34m\u001b[0m\u001b[0;34m\u001b[0m\u001b[0m\n\u001b[1;32m    131\u001b[0m \u001b[0;34m\u001b[0m\u001b[0m\n\u001b[0;32m--> 132\u001b[0;31m     hydra_cfg = config_import_script(task_cfg_name=task_cfg_name,\n\u001b[0m\u001b[1;32m    133\u001b[0m                                   \u001b[0mreprod_cfg_name\u001b[0m\u001b[0;34m=\u001b[0m\u001b[0mreprod_cfg_name\u001b[0m\u001b[0;34m,\u001b[0m\u001b[0;34m\u001b[0m\u001b[0;34m\u001b[0m\u001b[0m\n\u001b[1;32m    134\u001b[0m                                   job_name=args['project_name'])\n",
            "\u001b[0;32m/content/minivess_mlops/src/utils/config_utils.py\u001b[0m in \u001b[0;36mconfig_import_script\u001b[0;34m(task_cfg_name, reprod_cfg_name, parent_dir_string, parent_dir_string_defaults, job_name, base_cfg_name, hydra_version_base)\u001b[0m\n\u001b[1;32m    108\u001b[0m \u001b[0;34m\u001b[0m\u001b[0m\n\u001b[1;32m    109\u001b[0m     \u001b[0;31m# Define the paths needed to create the Hydra config\u001b[0m\u001b[0;34m\u001b[0m\u001b[0;34m\u001b[0m\u001b[0m\n\u001b[0;32m--> 110\u001b[0;31m     hydra_cfg_paths = get_hydra_config_paths(task_cfg_name=task_cfg_name,\n\u001b[0m\u001b[1;32m    111\u001b[0m                                              \u001b[0mreprod_cfg_name\u001b[0m\u001b[0;34m=\u001b[0m\u001b[0mreprod_cfg_name\u001b[0m\u001b[0;34m,\u001b[0m\u001b[0;34m\u001b[0m\u001b[0;34m\u001b[0m\u001b[0m\n\u001b[1;32m    112\u001b[0m                                              parent_dir_string=parent_dir_string)\n",
            "\u001b[0;32m/content/minivess_mlops/src/utils/config_utils.py\u001b[0m in \u001b[0;36mget_hydra_config_paths\u001b[0;34m(task_cfg_name, reprod_cfg_name, parent_dir_string)\u001b[0m\n\u001b[1;32m     59\u001b[0m \u001b[0;34m\u001b[0m\u001b[0m\n\u001b[1;32m     60\u001b[0m     \u001b[0;32melse\u001b[0m\u001b[0;34m:\u001b[0m\u001b[0;34m\u001b[0m\u001b[0;34m\u001b[0m\u001b[0m\n\u001b[0;32m---> 61\u001b[0;31m         \u001b[0mabs_cfg_path\u001b[0m\u001b[0;34m,\u001b[0m \u001b[0mconfig_path\u001b[0m \u001b[0;34m=\u001b[0m \u001b[0mget_config_path\u001b[0m\u001b[0;34m(\u001b[0m\u001b[0;34m)\u001b[0m\u001b[0;34m\u001b[0m\u001b[0;34m\u001b[0m\u001b[0m\n\u001b[0m\u001b[1;32m     62\u001b[0m         overrides_list, abs_task_cfg_path = (\n\u001b[1;32m     63\u001b[0m             get_task_cfg_overrides_list(task_cfg_name=task_cfg_name,\n",
            "\u001b[0;32m/content/minivess_mlops/src/utils/config_utils.py\u001b[0m in \u001b[0;36mget_config_path\u001b[0;34m()\u001b[0m\n\u001b[1;32m     36\u001b[0m         \u001b[0;32mif\u001b[0m \u001b[0;32mnot\u001b[0m \u001b[0mos\u001b[0m\u001b[0;34m.\u001b[0m\u001b[0mpath\u001b[0m\u001b[0;34m.\u001b[0m\u001b[0mexists\u001b[0m\u001b[0;34m(\u001b[0m\u001b[0mabsolute_config_dir\u001b[0m\u001b[0;34m)\u001b[0m\u001b[0;34m:\u001b[0m\u001b[0;34m\u001b[0m\u001b[0;34m\u001b[0m\u001b[0m\n\u001b[1;32m     37\u001b[0m             \u001b[0mlogger\u001b[0m\u001b[0;34m.\u001b[0m\u001b[0merror\u001b[0m\u001b[0;34m(\u001b[0m\u001b[0;34m'Configuration dir \"{}\" does not exist!'\u001b[0m\u001b[0;34m.\u001b[0m\u001b[0mformat\u001b[0m\u001b[0;34m(\u001b[0m\u001b[0mabsolute_config_dir\u001b[0m\u001b[0;34m)\u001b[0m\u001b[0;34m)\u001b[0m\u001b[0;34m\u001b[0m\u001b[0;34m\u001b[0m\u001b[0m\n\u001b[0;32m---> 38\u001b[0;31m             \u001b[0;32mraise\u001b[0m \u001b[0mIOError\u001b[0m\u001b[0;34m(\u001b[0m\u001b[0;34m'Configuration dir \"{}\" does not exist!'\u001b[0m\u001b[0;34m.\u001b[0m\u001b[0mformat\u001b[0m\u001b[0;34m(\u001b[0m\u001b[0mabsolute_config_dir\u001b[0m\u001b[0;34m)\u001b[0m\u001b[0;34m)\u001b[0m\u001b[0;34m\u001b[0m\u001b[0;34m\u001b[0m\u001b[0m\n\u001b[0m\u001b[1;32m     39\u001b[0m         \u001b[0mrelative_config_dir\u001b[0m \u001b[0;34m=\u001b[0m \u001b[0mos\u001b[0m\u001b[0;34m.\u001b[0m\u001b[0mpath\u001b[0m\u001b[0;34m.\u001b[0m\u001b[0mjoin\u001b[0m\u001b[0;34m(\u001b[0m\u001b[0mparent_dir_string\u001b[0m\u001b[0;34m,\u001b[0m \u001b[0;34m'configs'\u001b[0m\u001b[0;34m)\u001b[0m\u001b[0;34m\u001b[0m\u001b[0;34m\u001b[0m\u001b[0m\n\u001b[1;32m     40\u001b[0m         \u001b[0;32mreturn\u001b[0m \u001b[0mabsolute_config_dir\u001b[0m\u001b[0;34m,\u001b[0m \u001b[0mrelative_config_dir\u001b[0m\u001b[0;34m\u001b[0m\u001b[0;34m\u001b[0m\u001b[0m\n",
            "\u001b[0;31mOSError\u001b[0m: Configuration dir \"/content/minivess_mlops/../configs\" does not exist!"
          ]
        }
      ]
    },
    {
      "cell_type": "markdown",
      "source": [
        "Import the dataloaders (now the data augmentations are here as well as data transformations)"
      ],
      "metadata": {
        "collapsed": false,
        "id": "40c67cdc100d7ebc"
      },
      "id": "40c67cdc100d7ebc"
    },
    {
      "cell_type": "code",
      "execution_count": null,
      "outputs": [],
      "source": [
        "_, _, experim_dataloaders, cfg['run'] = define_experiment_data(cfg=cfg)\n",
        "\n",
        "# Get the \"validation\" and \"train\" dataloaders from the dictionary\n",
        "train, val = get_dataloaders(experim_dataloaders)"
      ],
      "metadata": {
        "ExecuteTime": {
          "end_time": "2023-10-25T01:26:37.985819948Z",
          "start_time": "2023-10-25T01:26:37.650394408Z"
        },
        "id": "e231509f5afb185"
      },
      "id": "e231509f5afb185"
    },
    {
      "cell_type": "markdown",
      "source": [
        "Now you are ready to train your new model that you just wanna quickly test without\n",
        "wanting to have a battle with the config .YAML files\n",
        "\n",
        "Add maybe some fastai demo with MLflow autologging:\n",
        "[https://github.com/mlflow/mlflow/blob/master/examples/fastai/train.py](https://github.com/mlflow/mlflow/blob/master/examples/fastai/train.py)"
      ],
      "metadata": {
        "collapsed": false,
        "id": "730a808f93390d1e"
      },
      "id": "730a808f93390d1e"
    },
    {
      "cell_type": "code",
      "execution_count": null,
      "outputs": [],
      "source": [
        "# Iterate the dataloaders for demo\n",
        "no_of_epochs = 3\n",
        "logger.info('Training for {} epochs'.format(no_of_epochs))\n",
        "for epoch in range(no_of_epochs):\n",
        "\n",
        "    logger.info('Epoch {}/{}'.format(epoch, no_of_epochs - 1))\n",
        "\n",
        "    # Train\n",
        "    logger.info('train with {} batches'.format(len(train)))\n",
        "    for i, batch in enumerate(train):\n",
        "        images, mask = batch['image'], batch['label']\n",
        "\n",
        "    # Validation\n",
        "    logger.info('validate with {} batches'.format(len(train)))\n",
        "    for j, batch in enumerate(val):\n",
        "        images, mask = batch['image'], batch['label']\n",
        "\n",
        "logger.info('Training done!')"
      ],
      "metadata": {
        "ExecuteTime": {
          "end_time": "2023-10-25T01:28:33.785824734Z",
          "start_time": "2023-10-25T01:26:37.990647342Z"
        },
        "id": "ee4ad4c2e241e65b"
      },
      "id": "ee4ad4c2e241e65b"
    }
  ],
  "metadata": {
    "kernelspec": {
      "name": "python3",
      "language": "python",
      "display_name": "Python 3 (ipykernel)"
    },
    "language_info": {
      "codemirror_mode": {
        "name": "ipython",
        "version": 2
      },
      "file_extension": ".py",
      "mimetype": "text/x-python",
      "name": "python",
      "nbconvert_exporter": "python",
      "pygments_lexer": "ipython2",
      "version": "2.7.6"
    },
    "colab": {
      "provenance": [],
      "include_colab_link": true
    }
  },
  "nbformat": 4,
  "nbformat_minor": 5
}
